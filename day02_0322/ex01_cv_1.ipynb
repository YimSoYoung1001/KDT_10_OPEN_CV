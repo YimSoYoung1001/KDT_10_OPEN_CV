{
 "cells": [
  {
   "cell_type": "markdown",
   "source": [
    "### [ 기본적인 이미지 다루기 ]"
   ],
   "metadata": {
    "collapsed": false
   },
   "id": "b2923f005b174a05"
  },
  {
   "cell_type": "code",
   "outputs": [],
   "source": [
    "# 모듈 로딩\n",
    "import cv2\n",
    "import numpy as np"
   ],
   "metadata": {
    "collapsed": false,
    "ExecuteTime": {
     "end_time": "2024-03-22T04:13:23.610972Z",
     "start_time": "2024-03-22T04:13:23.406857Z"
    }
   },
   "id": "91960cbf8d3d8f5a",
   "execution_count": 1
  },
  {
   "cell_type": "markdown",
   "source": [
    "- [1] 이미지 데이터 로딩 <hr>\n",
    "    * 컬러 / 회색 이미지 변환 로딩 가능함"
   ],
   "metadata": {
    "collapsed": false
   },
   "id": "4ab6d85188e2be74"
  },
  {
   "cell_type": "code",
   "outputs": [],
   "source": [
    "file = '../data/img/img_02_sye.jpg'\n",
    "\n",
    "# 컬러 이미지 로딩 [기본값]\n",
    "img_rgb = cv2.imread(file, cv2.IMREAD_COLOR)\n",
    "\n",
    "# 그레이 이미지 로딩\n",
    "img_gray = cv2.imread(file, cv2.IMREAD_GRAYSCALE)"
   ],
   "metadata": {
    "collapsed": false,
    "ExecuteTime": {
     "end_time": "2024-03-22T04:13:23.642296Z",
     "start_time": "2024-03-22T04:13:23.613073Z"
    }
   },
   "id": "2200b42260eae4b3",
   "execution_count": 2
  },
  {
   "cell_type": "code",
   "outputs": [
    {
     "name": "stdout",
     "output_type": "stream",
     "text": [
      "[ Color IMAGE ]\n",
      "[ shape ] (721, 1080, 3) \n",
      "[ dimension ] 3D\n",
      "[ dtype ] uint8 \n",
      "[ size ] 2336040 byte\n"
     ]
    }
   ],
   "source": [
    "# 이미지 데이터 정보 확인\n",
    "print(f\"[ Color IMAGE ]\")\n",
    "print(f\"[ shape ] {img_rgb.shape} \")\n",
    "print(f\"[ dimension ] {img_rgb.ndim}D\")\n",
    "print(f\"[ dtype ] {img_rgb.dtype} \")\n",
    "print(f\"[ size ] {img_rgb.size} byte\")"
   ],
   "metadata": {
    "collapsed": false,
    "ExecuteTime": {
     "end_time": "2024-03-22T04:13:23.657970Z",
     "start_time": "2024-03-22T04:13:23.644580Z"
    }
   },
   "id": "bb84099b10ecfd49",
   "execution_count": 3
  },
  {
   "cell_type": "code",
   "outputs": [
    {
     "name": "stdout",
     "output_type": "stream",
     "text": [
      "[ GRAY IMAGE ]\n",
      "[ shape ] (721, 1080) \n",
      "[ dimension ] 2D\n",
      "[ dtype ] uint8 \n",
      "[ size ] 778680 byte\n"
     ]
    }
   ],
   "source": [
    "# 이미지 데이터 정보 확인\n",
    "print(f\"[ GRAY IMAGE ]\")\n",
    "print(f\"[ shape ] {img_gray.shape} \")\n",
    "print(f\"[ dimension ] {img_gray.ndim}D\")\n",
    "print(f\"[ dtype ] {img_gray.dtype} \")\n",
    "print(f\"[ size ] {img_gray.size} byte\")"
   ],
   "metadata": {
    "collapsed": false,
    "ExecuteTime": {
     "end_time": "2024-03-22T04:13:23.673323Z",
     "start_time": "2024-03-22T04:13:23.660269Z"
    }
   },
   "id": "42cbb33d8dfa97f8",
   "execution_count": 4
  },
  {
   "cell_type": "code",
   "outputs": [],
   "source": [
    "# 이미지 창 띄우기\n",
    "# cv2.imshow(' COLOR ', img_rgb)\n",
    "\n",
    "# 이미지 창 제어\n",
    "# cv2.waitKey()  # default는 delay = 0 (무한대기)\n",
    "\n",
    "# 이미지 창 닫기\n",
    "# cv2.destroyAllWindows()"
   ],
   "metadata": {
    "collapsed": false,
    "ExecuteTime": {
     "end_time": "2024-03-22T04:13:23.688967Z",
     "start_time": "2024-03-22T04:13:23.677516Z"
    }
   },
   "id": "c75e782c5be85a7c",
   "execution_count": 5
  },
  {
   "cell_type": "code",
   "outputs": [
    {
     "name": "stdout",
     "output_type": "stream",
     "text": [
      " key => 27 - 0x1b\n"
     ]
    }
   ],
   "source": [
    "if img_rgb is not None :\n",
    "    cv2.imshow(file, img_rgb)\n",
    "    while True:\n",
    "        key = cv2.waitKey()     # 키 입력 대기\n",
    "        print(f\" key => {key} - {hex(key)}\")   # 입력 키 출력\n",
    "        \n",
    "        if key == 27 : \n",
    "            cv2.destroyAllWindows()\n",
    "            break\n",
    "else:\n",
    "    print('NO IMAGE FILE')"
   ],
   "metadata": {
    "collapsed": false,
    "ExecuteTime": {
     "end_time": "2024-03-22T04:13:27.202553Z",
     "start_time": "2024-03-22T04:13:23.691249Z"
    }
   },
   "id": "af92316f78fb464b",
   "execution_count": 6
  },
  {
   "cell_type": "code",
   "outputs": [],
   "source": [
    "save_filename = '../data/img/gray_.jpg'\n",
    "gray_file = cv2.imwrite(save_filename, img_gray)"
   ],
   "metadata": {
    "collapsed": false,
    "ExecuteTime": {
     "end_time": "2024-03-22T04:13:27.234293Z",
     "start_time": "2024-03-22T04:13:27.205738Z"
    }
   },
   "id": "e988b2af150eaa8f",
   "execution_count": 7
  },
  {
   "cell_type": "code",
   "outputs": [],
   "source": [
    "file = '../data/img/img_01_sunmi.jpg'\n",
    "\n",
    "# 컬러 이미지 로딩 [기본값]\n",
    "img_rgb = cv2.imread(file, cv2.IMREAD_COLOR)\n",
    "\n",
    "# cv2로 진행\n",
    "img_b, img_g, img_r = cv2.split(img_rgb)\n",
    "\n",
    "cv2.imshow('[Blue channel]', img_b)\n",
    "cv2.imshow('[Green channel]', img_g)\n",
    "cv2.imshow('[Red channel]', img_r)\n",
    "\n",
    "cv2.waitKey(delay = 2000)\n",
    "\n",
    "cv2.destroyAllWindows()"
   ],
   "metadata": {
    "collapsed": false,
    "ExecuteTime": {
     "end_time": "2024-03-22T04:13:29.459425Z",
     "start_time": "2024-03-22T04:13:27.236412Z"
    }
   },
   "id": "862faed9e2e0801b",
   "execution_count": 8
  },
  {
   "cell_type": "code",
   "outputs": [],
   "source": [
    "# numpy로 진행\n",
    "b, g, r = img_rgb[:, : , 0], img_rgb[:, : , 1], img_rgb[:, :, 2]\n",
    "\n",
    "cv2.imshow('[Blue-np]', b)\n",
    "cv2.imshow('[Green-np]', g)\n",
    "cv2.imshow('[Red-np]', r)\n",
    "\n",
    "cv2.waitKey(delay = 2000)\n",
    "\n",
    "cv2.destroyAllWindows()"
   ],
   "metadata": {
    "collapsed": false,
    "ExecuteTime": {
     "end_time": "2024-03-22T04:13:31.655448Z",
     "start_time": "2024-03-22T04:13:29.462415Z"
    }
   },
   "id": "7693e1d632280b79",
   "execution_count": 9
  },
  {
   "cell_type": "code",
   "outputs": [],
   "source": [
    "# 이미지 채널 병합\n",
    "\n",
    "img_b, img_g, img_r = cv2.split(img_rgb)  # 이미지 채널 분리\n",
    "\n",
    "img_merge = cv2.merge((img_r, img_g, img_b)) # 채널 순서 변경\n",
    "\n",
    "cv2.imshow('[RBG Image]', img_merge)\n",
    "\n",
    "cv2.waitKey(delay = 10000)\n",
    "\n",
    "cv2.destroyAllWindows()"
   ],
   "metadata": {
    "collapsed": false,
    "ExecuteTime": {
     "end_time": "2024-03-22T04:13:41.130812Z",
     "start_time": "2024-03-22T04:13:31.656446Z"
    }
   },
   "id": "4c0fb83a271202aa",
   "execution_count": 10
  },
  {
   "cell_type": "code",
   "outputs": [],
   "source": [
    "# 이미지 색 공간 변환\n",
    "\n",
    "# BGR --> HSV\n",
    "src_hsv = cv2.cvtColor(img_rgb, cv2.COLOR_RGB2HSV)\n",
    "planes = cv2.split(src_hsv)\n",
    "\n",
    "cv2.imshow('[HSV Image]', src_hsv)\n",
    "cv2.waitKey(delay = 3000)\n",
    "cv2.imshow('[Planes Image] _ 0', planes[0])\n",
    "cv2.waitKey(delay = 3000)\n",
    "cv2.imshow('[Planes Image] _ 1', planes[1])\n",
    "cv2.waitKey(delay = 3000)\n",
    "cv2.imshow('[Planes Image] _ 2', planes[2])\n",
    "cv2.waitKey(delay = 3000)\n",
    "cv2.destroyAllWindows()"
   ],
   "metadata": {
    "collapsed": false,
    "ExecuteTime": {
     "end_time": "2024-03-22T04:13:53.413553Z",
     "start_time": "2024-03-22T04:13:41.132195Z"
    }
   },
   "id": "50ee2dc0c4f2a1d1",
   "execution_count": 11
  },
  {
   "cell_type": "code",
   "outputs": [],
   "source": [
    "# # 이미지 창 띄우기\n",
    "# cv2.imshow('[ sample ]', img_rgb)\n",
    "# \n",
    "# # window 속성 중 창이 존재 체크 속성 => cv2.WND_PROP_VISIBLE\n",
    "# if cv2.waitKey() or cv2.getWindowProperty('[ sample ]', cv2.WND_PROP_VISIBLE) <1 :\n",
    "#     # 이미지 창 닫기\n",
    "#     cv2.destroyAllWindows()"
   ],
   "metadata": {
    "collapsed": false,
    "ExecuteTime": {
     "end_time": "2024-03-22T04:13:53.429281Z",
     "start_time": "2024-03-22T04:13:53.414732Z"
    }
   },
   "id": "5d53c583ee5f5cd5",
   "execution_count": 12
  }
 ],
 "metadata": {
  "kernelspec": {
   "display_name": "Python 3",
   "language": "python",
   "name": "python3"
  },
  "language_info": {
   "codemirror_mode": {
    "name": "ipython",
    "version": 2
   },
   "file_extension": ".py",
   "mimetype": "text/x-python",
   "name": "python",
   "nbconvert_exporter": "python",
   "pygments_lexer": "ipython2",
   "version": "2.7.6"
  }
 },
 "nbformat": 4,
 "nbformat_minor": 5
}
