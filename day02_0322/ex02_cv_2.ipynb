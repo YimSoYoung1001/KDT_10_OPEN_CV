{
 "cells": [
  {
   "cell_type": "code",
   "execution_count": 1,
   "id": "initial_id",
   "metadata": {
    "collapsed": true,
    "ExecuteTime": {
     "end_time": "2024-03-22T05:14:49.702769Z",
     "start_time": "2024-03-22T05:14:49.548699Z"
    }
   },
   "outputs": [],
   "source": [
    "import cv2\n",
    "import numpy as np"
   ]
  },
  {
   "cell_type": "code",
   "outputs": [
    {
     "data": {
      "text/plain": "((500, 500), 2)"
     },
     "execution_count": 2,
     "metadata": {},
     "output_type": "execute_result"
    }
   ],
   "source": [
    "file = '../data/img/img_05_bms.jpg'\n",
    "file_img = cv2.imread(file, cv2.IMREAD_GRAYSCALE)\n",
    "file_img.shape, file_img.ndim"
   ],
   "metadata": {
    "collapsed": false,
    "ExecuteTime": {
     "end_time": "2024-03-22T05:14:49.718173Z",
     "start_time": "2024-03-22T05:14:49.703785Z"
    }
   },
   "id": "1ad97acc41e07258",
   "execution_count": 2
  },
  {
   "cell_type": "code",
   "outputs": [
    {
     "data": {
      "text/plain": "array([[100, 100, 100, ..., 100, 100, 100],\n       [100, 100, 100, ..., 100, 100, 100],\n       [100, 100, 100, ..., 100, 100, 100],\n       ...,\n       [100, 100, 100, ..., 100, 100, 100],\n       [100, 100, 100, ..., 100, 100, 100],\n       [100, 100, 100, ..., 100, 100, 100]], dtype=uint8)"
     },
     "execution_count": 3,
     "metadata": {},
     "output_type": "execute_result"
    }
   ],
   "source": [
    "file_img"
   ],
   "metadata": {
    "collapsed": false,
    "ExecuteTime": {
     "end_time": "2024-03-22T05:14:49.733643Z",
     "start_time": "2024-03-22T05:14:49.719170Z"
    }
   },
   "id": "3fd749882c25dd58",
   "execution_count": 3
  },
  {
   "cell_type": "code",
   "outputs": [
    {
     "data": {
      "text/plain": "((300, 300), 2)"
     },
     "execution_count": 4,
     "metadata": {},
     "output_type": "execute_result"
    }
   ],
   "source": [
    "# 까만 도화지 만들기\n",
    "img = np.zeros((300, 300), dtype = np.uint8)\n",
    "img.shape, img.ndim"
   ],
   "metadata": {
    "collapsed": false,
    "ExecuteTime": {
     "end_time": "2024-03-22T05:14:49.748987Z",
     "start_time": "2024-03-22T05:14:49.734642Z"
    }
   },
   "id": "6cfe8bf5c8e6a504",
   "execution_count": 4
  },
  {
   "cell_type": "code",
   "outputs": [
    {
     "data": {
      "text/plain": "((1000, 1000), 2)"
     },
     "execution_count": 5,
     "metadata": {},
     "output_type": "execute_result"
    }
   ],
   "source": [
    "# 흰 도화지 만들기\n",
    "img2 = np.full((1000, 1000),255, dtype = np.uint8)\n",
    "img2.shape, img2.ndim"
   ],
   "metadata": {
    "collapsed": false,
    "ExecuteTime": {
     "end_time": "2024-03-22T05:14:49.765041Z",
     "start_time": "2024-03-22T05:14:49.752085Z"
    }
   },
   "id": "b19bb66338885c5e",
   "execution_count": 5
  },
  {
   "cell_type": "code",
   "outputs": [
    {
     "name": "stdout",
     "output_type": "stream",
     "text": [
      "[[255 255 255 ... 255 255 255]\n",
      " [255 255 255 ... 255 255 255]\n",
      " [255 255 255 ... 255 255 255]\n",
      " ...\n",
      " [255 255 255 ... 255 255 255]\n",
      " [255 255 255 ... 255 255 255]\n",
      " [255 255 255 ... 255 255 255]]\n"
     ]
    }
   ],
   "source": [
    "# 이미지 데이터에 그림 그리기\n",
    "cv2.line(img2, (10, 10), (700, 700), (0, 255, 255), 10)\n",
    "print(img2)"
   ],
   "metadata": {
    "collapsed": false,
    "ExecuteTime": {
     "end_time": "2024-03-22T05:14:49.780455Z",
     "start_time": "2024-03-22T05:14:49.766071Z"
    }
   },
   "id": "40619c4e57be2f7a",
   "execution_count": 6
  },
  {
   "cell_type": "code",
   "outputs": [
    {
     "data": {
      "text/plain": "array([[255, 255, 255, ..., 100, 100, 100],\n       [255, 255, 255, ..., 100, 100, 100],\n       [255, 255, 255, ..., 100, 100, 100],\n       ...,\n       [100, 100, 100, ..., 100, 100, 100],\n       [100, 100, 100, ..., 100, 100, 100],\n       [100, 100, 100, ..., 100, 100, 100]], dtype=uint8)"
     },
     "execution_count": 7,
     "metadata": {},
     "output_type": "execute_result"
    }
   ],
   "source": [
    "cv2.line(file_img, (10, 10), (400, 10), (255, 255, 0), 50)"
   ],
   "metadata": {
    "collapsed": false,
    "ExecuteTime": {
     "end_time": "2024-03-22T05:14:49.795993Z",
     "start_time": "2024-03-22T05:14:49.781500Z"
    }
   },
   "id": "661f82b2702967c2",
   "execution_count": 7
  },
  {
   "cell_type": "code",
   "outputs": [],
   "source": [
    "cv2.imshow('img', img)\n",
    "cv2.waitKey(delay= 100)\n",
    "cv2.destroyAllWindows()"
   ],
   "metadata": {
    "collapsed": false,
    "ExecuteTime": {
     "end_time": "2024-03-22T05:15:58.640367Z",
     "start_time": "2024-03-22T05:15:58.454398Z"
    }
   },
   "id": "2ff08c002cc8aa6b",
   "execution_count": 14
  },
  {
   "cell_type": "code",
   "outputs": [],
   "source": [
    "cv2.imshow('img2', img2)\n",
    "cv2.waitKey(delay= 100)\n",
    "cv2.destroyAllWindows()"
   ],
   "metadata": {
    "collapsed": false,
    "ExecuteTime": {
     "end_time": "2024-03-22T05:16:00.069971Z",
     "start_time": "2024-03-22T05:15:59.903477Z"
    }
   },
   "id": "18229899dfd51fd2",
   "execution_count": 15
  },
  {
   "cell_type": "code",
   "outputs": [],
   "source": [
    "cv2.imshow('file_img', file_img)\n",
    "cv2.waitKey(delay= 100)\n",
    "cv2.destroyAllWindows()"
   ],
   "metadata": {
    "collapsed": false,
    "ExecuteTime": {
     "end_time": "2024-03-22T05:16:00.948886Z",
     "start_time": "2024-03-22T05:16:00.780416Z"
    }
   },
   "id": "41e306e05d5ddcec",
   "execution_count": 16
  },
  {
   "cell_type": "code",
   "outputs": [],
   "source": [
    "# 도화지 만들기\n",
    "\n",
    "h, w = 500, 500\n",
    "img_w = np.full((h, w),100, dtype = np.uint8)\n",
    "ret = cv2.imwrite(file, img_w)\n",
    "\n",
    "cv2.imshow('ret', ret)\n",
    "cv2.waitKey(delay = 10)\n",
    "cv2.destroyAllWindows()"
   ],
   "metadata": {
    "collapsed": false,
    "ExecuteTime": {
     "end_time": "2024-03-22T05:16:11.355149Z",
     "start_time": "2024-03-22T05:16:11.297312Z"
    }
   },
   "id": "22a9b16abdb7394b",
   "execution_count": 17
  },
  {
   "cell_type": "code",
   "outputs": [
    {
     "data": {
      "text/plain": "((500, 500, 3), 3)"
     },
     "execution_count": 18,
     "metadata": {},
     "output_type": "execute_result"
    }
   ],
   "source": [
    "# 글씨 그리기\n",
    "file = '../data/img/img_03_twice.jpg'\n",
    "file_img = cv2.imread(file)\n",
    "file_img.shape, file_img.ndim"
   ],
   "metadata": {
    "collapsed": false,
    "ExecuteTime": {
     "end_time": "2024-03-22T05:16:16.363325Z",
     "start_time": "2024-03-22T05:16:16.349721Z"
    }
   },
   "id": "27b3d88e3e676296",
   "execution_count": 18
  },
  {
   "cell_type": "code",
   "outputs": [],
   "source": [
    "# cv2.putText(file_img, 'plain', (50, 100), cv2.FONT_HERSHEY_PLAIN, 5, (51, 255,0))\n",
    "# cv2.putText(file_img, 'Simplex', (100,100), cv2.FONT_HERSHEY_SIMPLEX, 5, (255,0,204))\n",
    "# cv2.putText(file_img, 'Duplex', (150, 100), cv2.FONT_HERSHEY_DUPLEX, 5, (204, 255, 255))\n",
    "# cv2.putText(file_img, 'Complex Small', (50, 300), cv2.FONT_HERSHEY_COMPLEX_SMALL, 5, (250, 0, 0))\n",
    "cv2.putText(file_img, 'Script Complex', (50, 300), cv2.FONT_HERSHEY_SCRIPT_COMPLEX, 1, (250,0,0))\n",
    "\n",
    "cv2.imshow('text+image', file_img)\n",
    "cv2.waitKey(delay = 50000)\n",
    "cv2.destroyAllWindows()"
   ],
   "metadata": {
    "collapsed": false,
    "ExecuteTime": {
     "end_time": "2024-03-22T05:15:52.407650Z",
     "start_time": "2024-03-22T05:15:02.333813Z"
    }
   },
   "id": "355ff85ca07673d2",
   "execution_count": 13
  },
  {
   "cell_type": "code",
   "outputs": [],
   "source": [],
   "metadata": {
    "collapsed": false,
    "ExecuteTime": {
     "end_time": "2024-03-22T05:15:52.423255Z",
     "start_time": "2024-03-22T05:15:52.408737Z"
    }
   },
   "id": "ff6b515dc6cdb687",
   "execution_count": 13
  }
 ],
 "metadata": {
  "kernelspec": {
   "display_name": "Python 3",
   "language": "python",
   "name": "python3"
  },
  "language_info": {
   "codemirror_mode": {
    "name": "ipython",
    "version": 2
   },
   "file_extension": ".py",
   "mimetype": "text/x-python",
   "name": "python",
   "nbconvert_exporter": "python",
   "pygments_lexer": "ipython2",
   "version": "2.7.6"
  }
 },
 "nbformat": 4,
 "nbformat_minor": 5
}
