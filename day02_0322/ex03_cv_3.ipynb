{
 "cells": [
  {
   "cell_type": "code",
   "execution_count": 2,
   "id": "initial_id",
   "metadata": {
    "collapsed": true,
    "ExecuteTime": {
     "end_time": "2024-03-22T05:56:59.314552Z",
     "start_time": "2024-03-22T05:56:59.141661Z"
    }
   },
   "outputs": [],
   "source": [
    "import cv2\n",
    "import numpy as np"
   ]
  },
  {
   "cell_type": "code",
   "outputs": [
    {
     "name": "stdout",
     "output_type": "stream",
     "text": [
      "face_detections resulte : [[165 111 366 366]]\n"
     ]
    }
   ],
   "source": [
    "# 이미지 파일 및 정면얼굴 인식 모델 경로\n",
    "frontalface_model = '../data/haarcascades/haarcascade_frontalface_alt.xml'\n",
    "img_file = '../data/img/img_02_sye.jpg'\n",
    "\n",
    "# 정면얼굴 인식 모델 로딩\n",
    "face_detector = cv2.CascadeClassifier(frontalface_model)\n",
    "\n",
    "# 이미지 데이터 로딩\n",
    "imgNP = cv2.imread(img_file)\n",
    "\n",
    "# 이미지에서 정면 얼굴 인식 ==> [결과] 인식된 얼굴 수 만큼 위치정보 (x,y,w,h) 반환\n",
    "face_detections = face_detector.detectMultiScale(imgNP)\n",
    "\n",
    "print(f\"face_detections resulte : {face_detections}\")\n",
    "\n",
    "\n",
    "# 인식된 정면 얼굴 ROI 표시\n",
    "for (x, y, w, h) in face_detections:\n",
    "    cv2.rectangle(imgNP, (x, y), (x+w, y+h), (0,255,255),2)\n",
    "    \n",
    "# 화면 출력\n",
    "cv2.imshow('[M]', imgNP)\n",
    "\n",
    "# ㅋㅣ 입력 및 X 버튼에 따른 창 닫기\n",
    "if cv2.waitKey(delay=5000) or cv2.getWindowProperty('image', cv2.WND_PROP_VISIBLE) < 1:\n",
    "    cv2.destroyAllWindows()"
   ],
   "metadata": {
    "collapsed": false,
    "ExecuteTime": {
     "end_time": "2024-03-22T05:57:04.830696Z",
     "start_time": "2024-03-22T05:56:59.316605Z"
    }
   },
   "id": "431b81d294c5ce8b",
   "execution_count": 3
  },
  {
   "cell_type": "code",
   "outputs": [],
   "source": [
    "video_file = '../data/video/karina.mp4'\n",
    "\n",
    "cap = cv2.VideoCapture(video_file)\n",
    "if cap.isOpened():\n",
    "    while True:\n",
    "        ret, img = cap.read()\n",
    "        if ret :\n",
    "            cv2.imshow(video_file, img)\n",
    "            cv2.waitKey(delay=100)\n",
    "            cv2.destroyAllWindows()\n",
    "        else:\n",
    "            break\n",
    "else:\n",
    "    print('cannot open video file')\n",
    "    \n",
    "cap.release()\n",
    "cv2.destroyAllWindows()"
   ],
   "metadata": {
    "collapsed": false,
    "is_executing": true,
    "ExecuteTime": {
     "start_time": "2024-03-22T05:57:04.831740Z"
    }
   },
   "id": "1e6dd02e3480add8",
   "execution_count": null
  },
  {
   "cell_type": "code",
   "outputs": [],
   "source": [],
   "metadata": {
    "collapsed": false,
    "is_executing": true
   },
   "id": "124fc03121091e27"
  }
 ],
 "metadata": {
  "kernelspec": {
   "display_name": "Python 3",
   "language": "python",
   "name": "python3"
  },
  "language_info": {
   "codemirror_mode": {
    "name": "ipython",
    "version": 2
   },
   "file_extension": ".py",
   "mimetype": "text/x-python",
   "name": "python",
   "nbconvert_exporter": "python",
   "pygments_lexer": "ipython2",
   "version": "2.7.6"
  }
 },
 "nbformat": 4,
 "nbformat_minor": 5
}
