{
 "cells": [
  {
   "cell_type": "markdown",
   "source": [
    "[전제조건] \n",
    "- 알파벳 26개를 사용하는 언어를 식별할 수 있다.\n",
    "- 언어마다 사용하는 알파벳 빈도는 다르다\n",
    "\n",
    "[모델]\n",
    "- 알파벳 입력 시 해당 언어 출력"
   ],
   "metadata": {
    "collapsed": false
   },
   "id": "574b1ff0101bbf44"
  },
  {
   "cell_type": "code",
   "outputs": [],
   "source": [
    "import os\n",
    "import pandas as pd\n",
    "import numpy as np\n",
    "import struct\n",
    "import matplotlib.pyplot as plt"
   ],
   "metadata": {
    "collapsed": false,
    "ExecuteTime": {
     "end_time": "2024-03-22T00:20:58.782844Z",
     "start_time": "2024-03-22T00:20:57.660206Z"
    }
   },
   "id": "9c9d30f14726c006",
   "execution_count": 1
  },
  {
   "cell_type": "code",
   "outputs": [],
   "source": [
    "def hamsu(country, using_folder):\n",
    "    a = 0\n",
    "    b = 0\n",
    "    c = 0\n",
    "    d = 0\n",
    "    e = 0\n",
    "    f = 0\n",
    "    g = 0\n",
    "    h = 0\n",
    "    i = 0\n",
    "    j = 0\n",
    "    k = 0\n",
    "    l = 0\n",
    "    m = 0\n",
    "    n = 0\n",
    "    o = 0\n",
    "    p = 0\n",
    "    q = 0\n",
    "    r = 0\n",
    "    s = 0\n",
    "    t = 0\n",
    "    u = 0\n",
    "    v = 0\n",
    "    w = 0\n",
    "    x = 0\n",
    "    y = 0\n",
    "    z = 0\n",
    "\n",
    "    total_dict = {}\n",
    "    folder_list = os.listdir(using_folder)\n",
    "    \n",
    "    for folder in folder_list:\n",
    "\n",
    "        file = using_folder + folder\n",
    "        if folder.startswith(country):\n",
    "            # print(f\"============== {folder} ==============\")\n",
    "            # print(file)\n",
    "            text_file = open(file, 'rb')\n",
    "            letters = text_file.read()\n",
    "            letters = letters.replace(('\\n').encode(), (' ').encode())\n",
    "            # print(folder)\n",
    "            letters = str(letters)\n",
    "            for let in letters:\n",
    "                try:    \n",
    "                    if let == 'a':\n",
    "                        a +=1\n",
    "                    if let == 'b':\n",
    "                        b +=1\n",
    "                    if let == 'c':\n",
    "                        c +=1\n",
    "                    if let == 'd':\n",
    "                        d +=1\n",
    "                    if let == 'e':\n",
    "                        e +=1\n",
    "                    if let == 'f':\n",
    "                        f +=1\n",
    "                    if let == 'g':\n",
    "                        g +=1\n",
    "                    if let == 'h':\n",
    "                        h +=1\n",
    "                    if let == 'i':\n",
    "                        i +=1\n",
    "                    if let == 'j':\n",
    "                        j +=1\n",
    "                    if let == 'k':\n",
    "                        k +=1\n",
    "                    if let == 'l':\n",
    "                        l +=1\n",
    "                    if let == 'm':\n",
    "                        m +=1\n",
    "                    if let == 'n':\n",
    "                        n +=1\n",
    "                    if let == 'o':\n",
    "                        o +=1\n",
    "                    if let == 'p':\n",
    "                        p +=1\n",
    "                    if let == 'q':\n",
    "                        q +=1\n",
    "                    if let == 'r':\n",
    "                        r +=1\n",
    "                    if let == 's':\n",
    "                        s +=1\n",
    "                    if let == 't':\n",
    "                        t +=1\n",
    "                    if let == 'u':\n",
    "                        u +=1\n",
    "                    if let == 'v':\n",
    "                        v +=1\n",
    "                    if let == 'w':\n",
    "                        w +=1\n",
    "                    if let == 'x':\n",
    "                        x +=1\n",
    "                    if let == 'y':\n",
    "                        y +=1\n",
    "                    if let == 'z':\n",
    "                        z +=1\n",
    "                except:\n",
    "                    print('문자가 아님')\n",
    "            list = []\n",
    "            # print(len(list))\n",
    "            list.append(a)\n",
    "            list.append(b)\n",
    "            list.append(c)\n",
    "            list.append(d)\n",
    "            list.append(e)\n",
    "            list.append(f)\n",
    "            list.append(g)\n",
    "            list.append(h)\n",
    "            list.append(i)\n",
    "            list.append(j)\n",
    "            list.append(k)\n",
    "            list.append(l)\n",
    "            list.append(m)\n",
    "            list.append(n)\n",
    "            list.append(o)\n",
    "            list.append(p)\n",
    "            list.append(q)\n",
    "            list.append(r)\n",
    "            list.append(s)\n",
    "            list.append(t)\n",
    "            list.append(u)\n",
    "            list.append(v)\n",
    "            list.append(w)\n",
    "            list.append(x)\n",
    "            list.append(y)\n",
    "            list.append(z)\n",
    "            # print(len(list))\n",
    "    total_dict[country] = list\n",
    "    return total_dict"
   ],
   "metadata": {
    "collapsed": false,
    "ExecuteTime": {
     "end_time": "2024-03-22T00:20:58.813767Z",
     "start_time": "2024-03-22T00:20:58.785937Z"
    }
   },
   "id": "c3b9a3a3e746c580",
   "execution_count": 2
  },
  {
   "cell_type": "code",
   "outputs": [],
   "source": [
    "folder_path = '../data/lang_data/'\n",
    "train_folder = folder_path + 'train/'\n",
    "test_folder = folder_path + 'test/'\n",
    "\n",
    "col_list = ['a','b','c','d','e','f','g','h','i','j','k','l','m','n','o','p','q','r','s','t','u','v','w','x','y','z']"
   ],
   "metadata": {
    "collapsed": false,
    "ExecuteTime": {
     "end_time": "2024-03-22T00:20:58.829309Z",
     "start_time": "2024-03-22T00:20:58.815842Z"
    }
   },
   "id": "1d2ce2e0411848ea",
   "execution_count": 3
  },
  {
   "cell_type": "code",
   "outputs": [
    {
     "data": {
      "text/plain": "        a     b     c     d      e     f      g     h      i     j  ...  \\\nen  16909  2833  6846  7530  24354  3956   3369  8642  15144   144  ...   \nfr  13827  1913  9440  5374  18095  1414   1280  1276   8914   237  ...   \nid  26527  3691  2068  5778  12368   858   5443  2725  12063  1022  ...   \ntl  31531  2996   974  2187   3857   188  12801  1963  11205    50  ...   \n\n        r      s      t     u     v     w      x     y    z     sum  \nen  13959  13338  16174  6199  2224  2892   1803  2988  270  197213  \nfr   8839   8890   8206  6243  1311   116  12870   525   79  138851  \nid   8292   6752   7029  6298   347   603   3190  1920   80  144761  \ntl   3811   6820   6666  4530   202  1389   1317  3282   86  139851  \n\n[4 rows x 27 columns]",
      "text/html": "<div>\n<style scoped>\n    .dataframe tbody tr th:only-of-type {\n        vertical-align: middle;\n    }\n\n    .dataframe tbody tr th {\n        vertical-align: top;\n    }\n\n    .dataframe thead th {\n        text-align: right;\n    }\n</style>\n<table border=\"1\" class=\"dataframe\">\n  <thead>\n    <tr style=\"text-align: right;\">\n      <th></th>\n      <th>a</th>\n      <th>b</th>\n      <th>c</th>\n      <th>d</th>\n      <th>e</th>\n      <th>f</th>\n      <th>g</th>\n      <th>h</th>\n      <th>i</th>\n      <th>j</th>\n      <th>...</th>\n      <th>r</th>\n      <th>s</th>\n      <th>t</th>\n      <th>u</th>\n      <th>v</th>\n      <th>w</th>\n      <th>x</th>\n      <th>y</th>\n      <th>z</th>\n      <th>sum</th>\n    </tr>\n  </thead>\n  <tbody>\n    <tr>\n      <th>en</th>\n      <td>16909</td>\n      <td>2833</td>\n      <td>6846</td>\n      <td>7530</td>\n      <td>24354</td>\n      <td>3956</td>\n      <td>3369</td>\n      <td>8642</td>\n      <td>15144</td>\n      <td>144</td>\n      <td>...</td>\n      <td>13959</td>\n      <td>13338</td>\n      <td>16174</td>\n      <td>6199</td>\n      <td>2224</td>\n      <td>2892</td>\n      <td>1803</td>\n      <td>2988</td>\n      <td>270</td>\n      <td>197213</td>\n    </tr>\n    <tr>\n      <th>fr</th>\n      <td>13827</td>\n      <td>1913</td>\n      <td>9440</td>\n      <td>5374</td>\n      <td>18095</td>\n      <td>1414</td>\n      <td>1280</td>\n      <td>1276</td>\n      <td>8914</td>\n      <td>237</td>\n      <td>...</td>\n      <td>8839</td>\n      <td>8890</td>\n      <td>8206</td>\n      <td>6243</td>\n      <td>1311</td>\n      <td>116</td>\n      <td>12870</td>\n      <td>525</td>\n      <td>79</td>\n      <td>138851</td>\n    </tr>\n    <tr>\n      <th>id</th>\n      <td>26527</td>\n      <td>3691</td>\n      <td>2068</td>\n      <td>5778</td>\n      <td>12368</td>\n      <td>858</td>\n      <td>5443</td>\n      <td>2725</td>\n      <td>12063</td>\n      <td>1022</td>\n      <td>...</td>\n      <td>8292</td>\n      <td>6752</td>\n      <td>7029</td>\n      <td>6298</td>\n      <td>347</td>\n      <td>603</td>\n      <td>3190</td>\n      <td>1920</td>\n      <td>80</td>\n      <td>144761</td>\n    </tr>\n    <tr>\n      <th>tl</th>\n      <td>31531</td>\n      <td>2996</td>\n      <td>974</td>\n      <td>2187</td>\n      <td>3857</td>\n      <td>188</td>\n      <td>12801</td>\n      <td>1963</td>\n      <td>11205</td>\n      <td>50</td>\n      <td>...</td>\n      <td>3811</td>\n      <td>6820</td>\n      <td>6666</td>\n      <td>4530</td>\n      <td>202</td>\n      <td>1389</td>\n      <td>1317</td>\n      <td>3282</td>\n      <td>86</td>\n      <td>139851</td>\n    </tr>\n  </tbody>\n</table>\n<p>4 rows × 27 columns</p>\n</div>"
     },
     "execution_count": 4,
     "metadata": {},
     "output_type": "execute_result"
    }
   ],
   "source": [
    "result_dict = hamsu('en', train_folder)\n",
    "english = pd.DataFrame(result_dict).T\n",
    "english.columns = col_list\n",
    "\n",
    "result_dict = hamsu('fr', train_folder)\n",
    "france = pd.DataFrame(result_dict).T\n",
    "france.columns = col_list\n",
    "\n",
    "result_dict = hamsu('id', train_folder)\n",
    "india = pd.DataFrame(result_dict).T\n",
    "india.columns = col_list\n",
    "\n",
    "result_dict = hamsu('tl', train_folder)\n",
    "tl = pd.DataFrame(result_dict).T\n",
    "tl.columns = col_list\n",
    "\n",
    "result1 = pd.concat([english,france])\n",
    "result2 = pd.concat([india, tl])\n",
    "total_df_train = pd.concat([result1, result2])\n",
    "total_df_train['sum'] = total_df_train.sum(axis='columns')\n",
    "total_df_train"
   ],
   "metadata": {
    "collapsed": false,
    "ExecuteTime": {
     "end_time": "2024-03-22T00:20:59.988673Z",
     "start_time": "2024-03-22T00:20:58.831370Z"
    }
   },
   "id": "4879044853a62c40",
   "execution_count": 4
  },
  {
   "cell_type": "code",
   "outputs": [
    {
     "data": {
      "text/plain": "        a     b      c     d      e     f     g     h      i    j  ...      r  \\\nen  13322  2357   6242  6822  22075  2892  2733  6495  12902  118  ...  11523   \nfr  16037  2031  10902  6337  20583  1667  1511  1473  11496  348  ...  10169   \nid   7907  1244    660  1889   4332   277  1653   988   3956  277  ...   2806   \ntl   7894  1038    887   896   1648   244  3256   519   3262    5  ...   1785   \n\n        s      t     u     v     w      x     y    z     sum  \nen  10840  13180  4572  2163  2694   2497  2378  187  168722  \nfr  10910   9969  7184  1768   546  14393   469  145  166252  \nid   2353   2614  2140   189   241    382   653   22   47817  \ntl   1964   2117  1073   101   600   1731   761   18   41634  \n\n[4 rows x 27 columns]",
      "text/html": "<div>\n<style scoped>\n    .dataframe tbody tr th:only-of-type {\n        vertical-align: middle;\n    }\n\n    .dataframe tbody tr th {\n        vertical-align: top;\n    }\n\n    .dataframe thead th {\n        text-align: right;\n    }\n</style>\n<table border=\"1\" class=\"dataframe\">\n  <thead>\n    <tr style=\"text-align: right;\">\n      <th></th>\n      <th>a</th>\n      <th>b</th>\n      <th>c</th>\n      <th>d</th>\n      <th>e</th>\n      <th>f</th>\n      <th>g</th>\n      <th>h</th>\n      <th>i</th>\n      <th>j</th>\n      <th>...</th>\n      <th>r</th>\n      <th>s</th>\n      <th>t</th>\n      <th>u</th>\n      <th>v</th>\n      <th>w</th>\n      <th>x</th>\n      <th>y</th>\n      <th>z</th>\n      <th>sum</th>\n    </tr>\n  </thead>\n  <tbody>\n    <tr>\n      <th>en</th>\n      <td>13322</td>\n      <td>2357</td>\n      <td>6242</td>\n      <td>6822</td>\n      <td>22075</td>\n      <td>2892</td>\n      <td>2733</td>\n      <td>6495</td>\n      <td>12902</td>\n      <td>118</td>\n      <td>...</td>\n      <td>11523</td>\n      <td>10840</td>\n      <td>13180</td>\n      <td>4572</td>\n      <td>2163</td>\n      <td>2694</td>\n      <td>2497</td>\n      <td>2378</td>\n      <td>187</td>\n      <td>168722</td>\n    </tr>\n    <tr>\n      <th>fr</th>\n      <td>16037</td>\n      <td>2031</td>\n      <td>10902</td>\n      <td>6337</td>\n      <td>20583</td>\n      <td>1667</td>\n      <td>1511</td>\n      <td>1473</td>\n      <td>11496</td>\n      <td>348</td>\n      <td>...</td>\n      <td>10169</td>\n      <td>10910</td>\n      <td>9969</td>\n      <td>7184</td>\n      <td>1768</td>\n      <td>546</td>\n      <td>14393</td>\n      <td>469</td>\n      <td>145</td>\n      <td>166252</td>\n    </tr>\n    <tr>\n      <th>id</th>\n      <td>7907</td>\n      <td>1244</td>\n      <td>660</td>\n      <td>1889</td>\n      <td>4332</td>\n      <td>277</td>\n      <td>1653</td>\n      <td>988</td>\n      <td>3956</td>\n      <td>277</td>\n      <td>...</td>\n      <td>2806</td>\n      <td>2353</td>\n      <td>2614</td>\n      <td>2140</td>\n      <td>189</td>\n      <td>241</td>\n      <td>382</td>\n      <td>653</td>\n      <td>22</td>\n      <td>47817</td>\n    </tr>\n    <tr>\n      <th>tl</th>\n      <td>7894</td>\n      <td>1038</td>\n      <td>887</td>\n      <td>896</td>\n      <td>1648</td>\n      <td>244</td>\n      <td>3256</td>\n      <td>519</td>\n      <td>3262</td>\n      <td>5</td>\n      <td>...</td>\n      <td>1785</td>\n      <td>1964</td>\n      <td>2117</td>\n      <td>1073</td>\n      <td>101</td>\n      <td>600</td>\n      <td>1731</td>\n      <td>761</td>\n      <td>18</td>\n      <td>41634</td>\n    </tr>\n  </tbody>\n</table>\n<p>4 rows × 27 columns</p>\n</div>"
     },
     "execution_count": 5,
     "metadata": {},
     "output_type": "execute_result"
    }
   ],
   "source": [
    "result_dict = hamsu('en', test_folder)\n",
    "english = pd.DataFrame(result_dict).T\n",
    "english.columns = col_list\n",
    "\n",
    "result_dict = hamsu('fr', test_folder)\n",
    "france = pd.DataFrame(result_dict).T\n",
    "france.columns = col_list\n",
    "\n",
    "result_dict = hamsu('id', test_folder)\n",
    "india = pd.DataFrame(result_dict).T\n",
    "india.columns = col_list\n",
    "\n",
    "result_dict = hamsu('tl', test_folder)\n",
    "tl = pd.DataFrame(result_dict).T\n",
    "tl.columns = col_list\n",
    "\n",
    "result1 = pd.concat([english,france])\n",
    "result2 = pd.concat([india, tl])\n",
    "total_df_test = pd.concat([result1, result2])\n",
    "total_df_test['sum'] = total_df_test.sum(axis='columns')\n",
    "total_df_test"
   ],
   "metadata": {
    "collapsed": false,
    "ExecuteTime": {
     "end_time": "2024-03-22T00:21:01.013196Z",
     "start_time": "2024-03-22T00:20:59.990666Z"
    }
   },
   "id": "454e299f1ea3a171",
   "execution_count": 5
  },
  {
   "cell_type": "code",
   "outputs": [
    {
     "data": {
      "text/plain": "en    197213\nfr    138851\nid    144761\ntl    139851\nName: sum, dtype: int64"
     },
     "execution_count": 6,
     "metadata": {},
     "output_type": "execute_result"
    }
   ],
   "source": [
    "X_train = total_df_train[:26]\n",
    "y_train = total_df_train['sum']\n",
    "y_train"
   ],
   "metadata": {
    "collapsed": false,
    "ExecuteTime": {
     "end_time": "2024-03-22T00:21:01.028768Z",
     "start_time": "2024-03-22T00:21:01.015237Z"
    }
   },
   "id": "b15b4b3cbb103b75",
   "execution_count": 6
  },
  {
   "cell_type": "code",
   "outputs": [
    {
     "data": {
      "text/plain": "en    168722\nfr    166252\nid     47817\ntl     41634\nName: sum, dtype: int64"
     },
     "execution_count": 7,
     "metadata": {},
     "output_type": "execute_result"
    }
   ],
   "source": [
    "X_test = total_df_test[:26]\n",
    "y_test = total_df_test['sum']\n",
    "y_test"
   ],
   "metadata": {
    "collapsed": false,
    "ExecuteTime": {
     "end_time": "2024-03-22T00:21:01.044329Z",
     "start_time": "2024-03-22T00:21:01.029852Z"
    }
   },
   "id": "d21ceb135bd02d27",
   "execution_count": 7
  },
  {
   "cell_type": "code",
   "outputs": [
    {
     "data": {
      "text/plain": "KNeighborsClassifier()",
      "text/html": "<style>#sk-container-id-1 {color: black;}#sk-container-id-1 pre{padding: 0;}#sk-container-id-1 div.sk-toggleable {background-color: white;}#sk-container-id-1 label.sk-toggleable__label {cursor: pointer;display: block;width: 100%;margin-bottom: 0;padding: 0.3em;box-sizing: border-box;text-align: center;}#sk-container-id-1 label.sk-toggleable__label-arrow:before {content: \"▸\";float: left;margin-right: 0.25em;color: #696969;}#sk-container-id-1 label.sk-toggleable__label-arrow:hover:before {color: black;}#sk-container-id-1 div.sk-estimator:hover label.sk-toggleable__label-arrow:before {color: black;}#sk-container-id-1 div.sk-toggleable__content {max-height: 0;max-width: 0;overflow: hidden;text-align: left;background-color: #f0f8ff;}#sk-container-id-1 div.sk-toggleable__content pre {margin: 0.2em;color: black;border-radius: 0.25em;background-color: #f0f8ff;}#sk-container-id-1 input.sk-toggleable__control:checked~div.sk-toggleable__content {max-height: 200px;max-width: 100%;overflow: auto;}#sk-container-id-1 input.sk-toggleable__control:checked~label.sk-toggleable__label-arrow:before {content: \"▾\";}#sk-container-id-1 div.sk-estimator input.sk-toggleable__control:checked~label.sk-toggleable__label {background-color: #d4ebff;}#sk-container-id-1 div.sk-label input.sk-toggleable__control:checked~label.sk-toggleable__label {background-color: #d4ebff;}#sk-container-id-1 input.sk-hidden--visually {border: 0;clip: rect(1px 1px 1px 1px);clip: rect(1px, 1px, 1px, 1px);height: 1px;margin: -1px;overflow: hidden;padding: 0;position: absolute;width: 1px;}#sk-container-id-1 div.sk-estimator {font-family: monospace;background-color: #f0f8ff;border: 1px dotted black;border-radius: 0.25em;box-sizing: border-box;margin-bottom: 0.5em;}#sk-container-id-1 div.sk-estimator:hover {background-color: #d4ebff;}#sk-container-id-1 div.sk-parallel-item::after {content: \"\";width: 100%;border-bottom: 1px solid gray;flex-grow: 1;}#sk-container-id-1 div.sk-label:hover label.sk-toggleable__label {background-color: #d4ebff;}#sk-container-id-1 div.sk-serial::before {content: \"\";position: absolute;border-left: 1px solid gray;box-sizing: border-box;top: 0;bottom: 0;left: 50%;z-index: 0;}#sk-container-id-1 div.sk-serial {display: flex;flex-direction: column;align-items: center;background-color: white;padding-right: 0.2em;padding-left: 0.2em;position: relative;}#sk-container-id-1 div.sk-item {position: relative;z-index: 1;}#sk-container-id-1 div.sk-parallel {display: flex;align-items: stretch;justify-content: center;background-color: white;position: relative;}#sk-container-id-1 div.sk-item::before, #sk-container-id-1 div.sk-parallel-item::before {content: \"\";position: absolute;border-left: 1px solid gray;box-sizing: border-box;top: 0;bottom: 0;left: 50%;z-index: -1;}#sk-container-id-1 div.sk-parallel-item {display: flex;flex-direction: column;z-index: 1;position: relative;background-color: white;}#sk-container-id-1 div.sk-parallel-item:first-child::after {align-self: flex-end;width: 50%;}#sk-container-id-1 div.sk-parallel-item:last-child::after {align-self: flex-start;width: 50%;}#sk-container-id-1 div.sk-parallel-item:only-child::after {width: 0;}#sk-container-id-1 div.sk-dashed-wrapped {border: 1px dashed gray;margin: 0 0.4em 0.5em 0.4em;box-sizing: border-box;padding-bottom: 0.4em;background-color: white;}#sk-container-id-1 div.sk-label label {font-family: monospace;font-weight: bold;display: inline-block;line-height: 1.2em;}#sk-container-id-1 div.sk-label-container {text-align: center;}#sk-container-id-1 div.sk-container {/* jupyter's `normalize.less` sets `[hidden] { display: none; }` but bootstrap.min.css set `[hidden] { display: none !important; }` so we also need the `!important` here to be able to override the default hidden behavior on the sphinx rendered scikit-learn.org. See: https://github.com/scikit-learn/scikit-learn/issues/21755 */display: inline-block !important;position: relative;}#sk-container-id-1 div.sk-text-repr-fallback {display: none;}</style><div id=\"sk-container-id-1\" class=\"sk-top-container\"><div class=\"sk-text-repr-fallback\"><pre>KNeighborsClassifier()</pre><b>In a Jupyter environment, please rerun this cell to show the HTML representation or trust the notebook. <br />On GitHub, the HTML representation is unable to render, please try loading this page with nbviewer.org.</b></div><div class=\"sk-container\" hidden><div class=\"sk-item\"><div class=\"sk-estimator sk-toggleable\"><input class=\"sk-toggleable__control sk-hidden--visually\" id=\"sk-estimator-id-1\" type=\"checkbox\" checked><label for=\"sk-estimator-id-1\" class=\"sk-toggleable__label sk-toggleable__label-arrow\">KNeighborsClassifier</label><div class=\"sk-toggleable__content\"><pre>KNeighborsClassifier()</pre></div></div></div></div></div>"
     },
     "execution_count": 8,
     "metadata": {},
     "output_type": "execute_result"
    }
   ],
   "source": [
    "from sklearn.tree import DecisionTreeClassifier\n",
    "from sklearn.neighbors import KNeighborsClassifier\n",
    "\n",
    "# model = DecisionTreeClassifier()\n",
    "model = KNeighborsClassifier()\n",
    "model.fit(X_train, y_train)"
   ],
   "metadata": {
    "collapsed": false,
    "ExecuteTime": {
     "end_time": "2024-03-22T00:21:02.551701Z",
     "start_time": "2024-03-22T00:21:01.045391Z"
    }
   },
   "id": "9f17099f729dabf3",
   "execution_count": 8
  },
  {
   "cell_type": "code",
   "outputs": [
    {
     "ename": "AttributeError",
     "evalue": "'Flags' object has no attribute 'c_contiguous'",
     "output_type": "error",
     "traceback": [
      "\u001B[1;31m---------------------------------------------------------------------------\u001B[0m",
      "\u001B[1;31mAttributeError\u001B[0m                            Traceback (most recent call last)",
      "Cell \u001B[1;32mIn[9], line 1\u001B[0m\n\u001B[1;32m----> 1\u001B[0m train_score \u001B[38;5;241m=\u001B[39m \u001B[43mmodel\u001B[49m\u001B[38;5;241;43m.\u001B[39;49m\u001B[43mscore\u001B[49m\u001B[43m(\u001B[49m\u001B[43mX_train\u001B[49m\u001B[43m,\u001B[49m\u001B[43m \u001B[49m\u001B[43my_train\u001B[49m\u001B[43m)\u001B[49m\n\u001B[0;32m      2\u001B[0m test_score \u001B[38;5;241m=\u001B[39m model\u001B[38;5;241m.\u001B[39mscore(X_test, y_test)\n\u001B[0;32m      3\u001B[0m \u001B[38;5;28mprint\u001B[39m(train_score, test_score)\n",
      "File \u001B[1;32mC:\\ProgramData\\anaconda3\\envs\\Torch_PY38\\lib\\site-packages\\sklearn\\base.py:705\u001B[0m, in \u001B[0;36mClassifierMixin.score\u001B[1;34m(self, X, y, sample_weight)\u001B[0m\n\u001B[0;32m    680\u001B[0m \u001B[38;5;250m\u001B[39m\u001B[38;5;124;03m\"\"\"\u001B[39;00m\n\u001B[0;32m    681\u001B[0m \u001B[38;5;124;03mReturn the mean accuracy on the given test data and labels.\u001B[39;00m\n\u001B[0;32m    682\u001B[0m \n\u001B[1;32m   (...)\u001B[0m\n\u001B[0;32m    701\u001B[0m \u001B[38;5;124;03m    Mean accuracy of ``self.predict(X)`` w.r.t. `y`.\u001B[39;00m\n\u001B[0;32m    702\u001B[0m \u001B[38;5;124;03m\"\"\"\u001B[39;00m\n\u001B[0;32m    703\u001B[0m \u001B[38;5;28;01mfrom\u001B[39;00m \u001B[38;5;21;01m.\u001B[39;00m\u001B[38;5;21;01mmetrics\u001B[39;00m \u001B[38;5;28;01mimport\u001B[39;00m accuracy_score\n\u001B[1;32m--> 705\u001B[0m \u001B[38;5;28;01mreturn\u001B[39;00m accuracy_score(y, \u001B[38;5;28;43mself\u001B[39;49m\u001B[38;5;241;43m.\u001B[39;49m\u001B[43mpredict\u001B[49m\u001B[43m(\u001B[49m\u001B[43mX\u001B[49m\u001B[43m)\u001B[49m, sample_weight\u001B[38;5;241m=\u001B[39msample_weight)\n",
      "File \u001B[1;32mC:\\ProgramData\\anaconda3\\envs\\Torch_PY38\\lib\\site-packages\\sklearn\\neighbors\\_classification.py:246\u001B[0m, in \u001B[0;36mKNeighborsClassifier.predict\u001B[1;34m(self, X)\u001B[0m\n\u001B[0;32m    244\u001B[0m check_is_fitted(\u001B[38;5;28mself\u001B[39m, \u001B[38;5;124m\"\u001B[39m\u001B[38;5;124m_fit_method\u001B[39m\u001B[38;5;124m\"\u001B[39m)\n\u001B[0;32m    245\u001B[0m \u001B[38;5;28;01mif\u001B[39;00m \u001B[38;5;28mself\u001B[39m\u001B[38;5;241m.\u001B[39mweights \u001B[38;5;241m==\u001B[39m \u001B[38;5;124m\"\u001B[39m\u001B[38;5;124muniform\u001B[39m\u001B[38;5;124m\"\u001B[39m:\n\u001B[1;32m--> 246\u001B[0m     \u001B[38;5;28;01mif\u001B[39;00m \u001B[38;5;28mself\u001B[39m\u001B[38;5;241m.\u001B[39m_fit_method \u001B[38;5;241m==\u001B[39m \u001B[38;5;124m\"\u001B[39m\u001B[38;5;124mbrute\u001B[39m\u001B[38;5;124m\"\u001B[39m \u001B[38;5;129;01mand\u001B[39;00m \u001B[43mArgKminClassMode\u001B[49m\u001B[38;5;241;43m.\u001B[39;49m\u001B[43mis_usable_for\u001B[49m\u001B[43m(\u001B[49m\n\u001B[0;32m    247\u001B[0m \u001B[43m        \u001B[49m\u001B[43mX\u001B[49m\u001B[43m,\u001B[49m\u001B[43m \u001B[49m\u001B[38;5;28;43mself\u001B[39;49m\u001B[38;5;241;43m.\u001B[39;49m\u001B[43m_fit_X\u001B[49m\u001B[43m,\u001B[49m\u001B[43m \u001B[49m\u001B[38;5;28;43mself\u001B[39;49m\u001B[38;5;241;43m.\u001B[39;49m\u001B[43mmetric\u001B[49m\n\u001B[0;32m    248\u001B[0m \u001B[43m    \u001B[49m\u001B[43m)\u001B[49m:\n\u001B[0;32m    249\u001B[0m         probabilities \u001B[38;5;241m=\u001B[39m \u001B[38;5;28mself\u001B[39m\u001B[38;5;241m.\u001B[39mpredict_proba(X)\n\u001B[0;32m    250\u001B[0m         \u001B[38;5;28;01mif\u001B[39;00m \u001B[38;5;28mself\u001B[39m\u001B[38;5;241m.\u001B[39moutputs_2d_:\n",
      "File \u001B[1;32mC:\\ProgramData\\anaconda3\\envs\\Torch_PY38\\lib\\site-packages\\sklearn\\metrics\\_pairwise_distances_reduction\\_dispatcher.py:471\u001B[0m, in \u001B[0;36mArgKminClassMode.is_usable_for\u001B[1;34m(cls, X, Y, metric)\u001B[0m\n\u001B[0;32m    448\u001B[0m \u001B[38;5;129m@classmethod\u001B[39m\n\u001B[0;32m    449\u001B[0m \u001B[38;5;28;01mdef\u001B[39;00m \u001B[38;5;21mis_usable_for\u001B[39m(\u001B[38;5;28mcls\u001B[39m, X, Y, metric) \u001B[38;5;241m-\u001B[39m\u001B[38;5;241m>\u001B[39m \u001B[38;5;28mbool\u001B[39m:\n\u001B[0;32m    450\u001B[0m \u001B[38;5;250m    \u001B[39m\u001B[38;5;124;03m\"\"\"Return True if the dispatcher can be used for the given parameters.\u001B[39;00m\n\u001B[0;32m    451\u001B[0m \n\u001B[0;32m    452\u001B[0m \u001B[38;5;124;03m    Parameters\u001B[39;00m\n\u001B[1;32m   (...)\u001B[0m\n\u001B[0;32m    468\u001B[0m \u001B[38;5;124;03m    True if the PairwiseDistancesReduction can be used, else False.\u001B[39;00m\n\u001B[0;32m    469\u001B[0m \u001B[38;5;124;03m    \"\"\"\u001B[39;00m\n\u001B[0;32m    470\u001B[0m     \u001B[38;5;28;01mreturn\u001B[39;00m (\n\u001B[1;32m--> 471\u001B[0m         \u001B[43mArgKmin\u001B[49m\u001B[38;5;241;43m.\u001B[39;49m\u001B[43mis_usable_for\u001B[49m\u001B[43m(\u001B[49m\u001B[43mX\u001B[49m\u001B[43m,\u001B[49m\u001B[43m \u001B[49m\u001B[43mY\u001B[49m\u001B[43m,\u001B[49m\u001B[43m \u001B[49m\u001B[43mmetric\u001B[49m\u001B[43m)\u001B[49m\n\u001B[0;32m    472\u001B[0m         \u001B[38;5;66;03m# TODO: Support CSR matrices.\u001B[39;00m\n\u001B[0;32m    473\u001B[0m         \u001B[38;5;129;01mand\u001B[39;00m \u001B[38;5;129;01mnot\u001B[39;00m issparse(X)\n\u001B[0;32m    474\u001B[0m         \u001B[38;5;129;01mand\u001B[39;00m \u001B[38;5;129;01mnot\u001B[39;00m issparse(Y)\n\u001B[0;32m    475\u001B[0m         \u001B[38;5;66;03m# TODO: implement Euclidean specialization with GEMM.\u001B[39;00m\n\u001B[0;32m    476\u001B[0m         \u001B[38;5;129;01mand\u001B[39;00m metric \u001B[38;5;129;01mnot\u001B[39;00m \u001B[38;5;129;01min\u001B[39;00m (\u001B[38;5;124m\"\u001B[39m\u001B[38;5;124meuclidean\u001B[39m\u001B[38;5;124m\"\u001B[39m, \u001B[38;5;124m\"\u001B[39m\u001B[38;5;124msqeuclidean\u001B[39m\u001B[38;5;124m\"\u001B[39m)\n\u001B[0;32m    477\u001B[0m     )\n",
      "File \u001B[1;32mC:\\ProgramData\\anaconda3\\envs\\Torch_PY38\\lib\\site-packages\\sklearn\\metrics\\_pairwise_distances_reduction\\_dispatcher.py:115\u001B[0m, in \u001B[0;36mBaseDistancesReductionDispatcher.is_usable_for\u001B[1;34m(cls, X, Y, metric)\u001B[0m\n\u001B[0;32m    101\u001B[0m \u001B[38;5;28;01mdef\u001B[39;00m \u001B[38;5;21mis_valid_sparse_matrix\u001B[39m(X):\n\u001B[0;32m    102\u001B[0m     \u001B[38;5;28;01mreturn\u001B[39;00m (\n\u001B[0;32m    103\u001B[0m         isspmatrix_csr(X)\n\u001B[0;32m    104\u001B[0m         \u001B[38;5;129;01mand\u001B[39;00m\n\u001B[1;32m   (...)\u001B[0m\n\u001B[0;32m    110\u001B[0m         X\u001B[38;5;241m.\u001B[39mindices\u001B[38;5;241m.\u001B[39mdtype \u001B[38;5;241m==\u001B[39m X\u001B[38;5;241m.\u001B[39mindptr\u001B[38;5;241m.\u001B[39mdtype \u001B[38;5;241m==\u001B[39m np\u001B[38;5;241m.\u001B[39mint32\n\u001B[0;32m    111\u001B[0m     )\n\u001B[0;32m    113\u001B[0m is_usable \u001B[38;5;241m=\u001B[39m (\n\u001B[0;32m    114\u001B[0m     get_config()\u001B[38;5;241m.\u001B[39mget(\u001B[38;5;124m\"\u001B[39m\u001B[38;5;124menable_cython_pairwise_dist\u001B[39m\u001B[38;5;124m\"\u001B[39m, \u001B[38;5;28;01mTrue\u001B[39;00m)\n\u001B[1;32m--> 115\u001B[0m     \u001B[38;5;129;01mand\u001B[39;00m (\u001B[43mis_numpy_c_ordered\u001B[49m\u001B[43m(\u001B[49m\u001B[43mX\u001B[49m\u001B[43m)\u001B[49m \u001B[38;5;129;01mor\u001B[39;00m is_valid_sparse_matrix(X))\n\u001B[0;32m    116\u001B[0m     \u001B[38;5;129;01mand\u001B[39;00m (is_numpy_c_ordered(Y) \u001B[38;5;129;01mor\u001B[39;00m is_valid_sparse_matrix(Y))\n\u001B[0;32m    117\u001B[0m     \u001B[38;5;129;01mand\u001B[39;00m X\u001B[38;5;241m.\u001B[39mdtype \u001B[38;5;241m==\u001B[39m Y\u001B[38;5;241m.\u001B[39mdtype\n\u001B[0;32m    118\u001B[0m     \u001B[38;5;129;01mand\u001B[39;00m X\u001B[38;5;241m.\u001B[39mdtype \u001B[38;5;129;01min\u001B[39;00m (np\u001B[38;5;241m.\u001B[39mfloat32, np\u001B[38;5;241m.\u001B[39mfloat64)\n\u001B[0;32m    119\u001B[0m     \u001B[38;5;129;01mand\u001B[39;00m metric \u001B[38;5;129;01min\u001B[39;00m \u001B[38;5;28mcls\u001B[39m\u001B[38;5;241m.\u001B[39mvalid_metrics()\n\u001B[0;32m    120\u001B[0m )\n\u001B[0;32m    122\u001B[0m \u001B[38;5;28;01mreturn\u001B[39;00m is_usable\n",
      "File \u001B[1;32mC:\\ProgramData\\anaconda3\\envs\\Torch_PY38\\lib\\site-packages\\sklearn\\metrics\\_pairwise_distances_reduction\\_dispatcher.py:99\u001B[0m, in \u001B[0;36mBaseDistancesReductionDispatcher.is_usable_for.<locals>.is_numpy_c_ordered\u001B[1;34m(X)\u001B[0m\n\u001B[0;32m     98\u001B[0m \u001B[38;5;28;01mdef\u001B[39;00m \u001B[38;5;21mis_numpy_c_ordered\u001B[39m(X):\n\u001B[1;32m---> 99\u001B[0m     \u001B[38;5;28;01mreturn\u001B[39;00m \u001B[38;5;28mhasattr\u001B[39m(X, \u001B[38;5;124m\"\u001B[39m\u001B[38;5;124mflags\u001B[39m\u001B[38;5;124m\"\u001B[39m) \u001B[38;5;129;01mand\u001B[39;00m \u001B[43mX\u001B[49m\u001B[38;5;241;43m.\u001B[39;49m\u001B[43mflags\u001B[49m\u001B[38;5;241;43m.\u001B[39;49m\u001B[43mc_contiguous\u001B[49m\n",
      "\u001B[1;31mAttributeError\u001B[0m: 'Flags' object has no attribute 'c_contiguous'"
     ]
    }
   ],
   "source": [
    "train_score = model.score(X_train, y_train)\n",
    "test_score = model.score(X_test, y_test)\n",
    "print(train_score, test_score)"
   ],
   "metadata": {
    "collapsed": false,
    "ExecuteTime": {
     "end_time": "2024-03-22T00:21:03.587888Z",
     "start_time": "2024-03-22T00:21:02.553695Z"
    }
   },
   "id": "2f8357c66ea7b1af",
   "execution_count": 9
  },
  {
   "cell_type": "markdown",
   "source": [
    "아무리 튜닝을 하지 않았다지만 train score 가 1.0 test score 0.0 ,,,, 제대로된 과대적합이다 ㅎㅎ"
   ],
   "metadata": {
    "collapsed": false
   },
   "id": "ae841f8319021fc4"
  },
  {
   "cell_type": "code",
   "outputs": [],
   "source": [],
   "metadata": {
    "collapsed": false
   },
   "id": "6fb120ca82c735c2"
  }
 ],
 "metadata": {
  "kernelspec": {
   "display_name": "Python 3",
   "language": "python",
   "name": "python3"
  },
  "language_info": {
   "codemirror_mode": {
    "name": "ipython",
    "version": 2
   },
   "file_extension": ".py",
   "mimetype": "text/x-python",
   "name": "python",
   "nbconvert_exporter": "python",
   "pygments_lexer": "ipython2",
   "version": "2.7.6"
  }
 },
 "nbformat": 4,
 "nbformat_minor": 5
}
