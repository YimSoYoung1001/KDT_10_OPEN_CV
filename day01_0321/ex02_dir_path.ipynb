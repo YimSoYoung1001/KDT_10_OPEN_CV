{
 "cells": [
  {
   "cell_type": "markdown",
   "source": [
    "### 폴더 및 파일 다루기"
   ],
   "metadata": {
    "collapsed": false
   },
   "id": "1b915ca5eeb7c7b2"
  },
  {
   "cell_type": "code",
   "outputs": [],
   "source": [
    "### 모듈 로딩\n",
    "import os\n",
    "import pandas as pd\n",
    "import numpy as np"
   ],
   "metadata": {
    "collapsed": false,
    "ExecuteTime": {
     "end_time": "2024-03-21T06:24:27.371088Z",
     "start_time": "2024-03-21T06:24:27.353014Z"
    }
   },
   "id": "c20b44a07d1a8f77",
   "execution_count": 54
  },
  {
   "cell_type": "code",
   "outputs": [
    {
     "data": {
      "text/plain": "True"
     },
     "execution_count": 55,
     "metadata": {},
     "output_type": "execute_result"
    }
   ],
   "source": [
    "# 특정 폴더 내의 모든 데이터 리스트 가져오기\n",
    "my_folder = '../data/'\n",
    "\n",
    "# 해당 폴더 또는 파일이 존재하는지 검사 ==> 결과 : True, False\n",
    "os.path.exists(my_folder)"
   ],
   "metadata": {
    "collapsed": false,
    "ExecuteTime": {
     "end_time": "2024-03-21T06:24:27.387142Z",
     "start_time": "2024-03-21T06:24:27.373238Z"
    }
   },
   "id": "9c3cde1e4c24eb3a",
   "execution_count": 55
  },
  {
   "cell_type": "code",
   "outputs": [
    {
     "name": "stdout",
     "output_type": "stream",
     "text": [
      "best_model.pth  |  False\n",
      "img  |  True\n",
      "iris.csv  |  False\n",
      "MNIST  |  True\n",
      "model  |  True\n",
      "newjeans.png  |  False\n",
      "text  |  True\n"
     ]
    }
   ],
   "source": [
    "# 폴더 내 모든 파일, 폴더 리스트 반환\n",
    "datalist = os.listdir(my_folder)\n",
    "\n",
    "for data in datalist:\n",
    "    # 폴더 여부 체크 => os.isdir(경로)\n",
    "    print(data, ' | ',os.path.isdir(my_folder + data))\n",
    "    \n",
    "# listdir 은 이름만 줘도 ㄱㅊ. 그런데 isdir은 경로로 줘야함"
   ],
   "metadata": {
    "collapsed": false,
    "ExecuteTime": {
     "end_time": "2024-03-21T06:24:27.402638Z",
     "start_time": "2024-03-21T06:24:27.388245Z"
    }
   },
   "id": "a46c73c7124a2bb",
   "execution_count": 56
  },
  {
   "cell_type": "code",
   "outputs": [
    {
     "name": "stdout",
     "output_type": "stream",
     "text": [
      "폴더가 아님\n",
      "- 파일명 : best_model.pth\n",
      "best_model.pth\n",
      "img 폴더 속에는 아래의 파일들이 존재함\n",
      "폴더가 아님\n",
      "- 파일명 : iris.csv\n",
      "iris.csv\n",
      "MNIST 폴더 속에는 아래의 파일들이 존재함\n",
      "- 파일명 : t10k-images.idx3-ubyte\n",
      "- 파일명 : t10k-labels.idx1-ubyte\n",
      "- 파일명 : train-images.idx3-ubyte\n",
      "- 파일명 : train-labels.idx1-ubyte\n",
      "- 파일명 : train.csv\n",
      "model 폴더 속에는 아래의 파일들이 존재함\n",
      "폴더가 아님\n",
      "- 파일명 : newjeans.png\n",
      "newjeans.png\n",
      "text 폴더 속에는 아래의 파일들이 존재함\n",
      "- 파일명 : t10k.csv\n",
      "- 파일명 : train.csv\n",
      "- 파일명 : winequality-white.csv\n"
     ]
    }
   ],
   "source": [
    "# data 폴더 아래에 존재하는 파일이면 파일명만 출력, 폴더라면 폴더 아래 데이터 리스트 출력\n",
    "\n",
    "for data in datalist:\n",
    "    # 폴더인가 아닌가 T/F\n",
    "    result = os.path.isdir(my_folder + data)\n",
    "    \n",
    "    # 폴더임 => 폴더 속 파일명들 출력\n",
    "    if result == True:\n",
    "        sublist = os.listdir(my_folder + data)\n",
    "        print(f\"{data} 폴더 속에는 아래의 파일들이 존재함\")\n",
    "        for sub in sublist:\n",
    "            print(f\"- 파일명 : {sub}\")\n",
    "    # 폴더 아님 => 파일명 출력\n",
    "    else :\n",
    "        print('폴더가 아님')\n",
    "        print(f\"- 파일명 : {data}\")\n",
    "        print(data)"
   ],
   "metadata": {
    "collapsed": false,
    "ExecuteTime": {
     "end_time": "2024-03-21T06:24:27.418344Z",
     "start_time": "2024-03-21T06:24:27.404747Z"
    }
   },
   "id": "92fa2b0e8e5de4a3",
   "execution_count": 57
  },
  {
   "cell_type": "code",
   "outputs": [
    {
     "name": "stdout",
     "output_type": "stream",
     "text": [
      "폴더가 아님 - 파일명 : iris.csv\n",
      "폴더 MNIST - 파일명 : train.csv\n",
      "폴더 text - 파일명 : t10k.csv\n",
      "폴더 text - 파일명 : train.csv\n",
      "폴더 text - 파일명 : winequality-white.csv\n"
     ]
    }
   ],
   "source": [
    "file_type = 'csv'\n",
    "count = 0\n",
    "for data in datalist:\n",
    "    result = os.path.isdir(my_folder + data)\n",
    "    if result == True:\n",
    "        sublist = os.listdir(my_folder + data)\n",
    "        for sub in sublist:\n",
    "            if sub[-3:] == file_type :\n",
    "                print(f\"폴더 {data} - 파일명 : {sub}\")\n",
    "                count += 1\n",
    "    else :\n",
    "        if data[-3:] == file_type :\n",
    "            print(f\"폴더가 아님 - 파일명 : {data}\")\n",
    "            count += 1\n",
    "if count == 0 : print(f'{file_type}형식의 파일은 존재하지 않습니데이!!')"
   ],
   "metadata": {
    "collapsed": false,
    "ExecuteTime": {
     "end_time": "2024-03-21T06:35:42.532879Z",
     "start_time": "2024-03-21T06:35:42.518486Z"
    }
   },
   "id": "2a9d5e4240bed106",
   "execution_count": 73
  },
  {
   "cell_type": "code",
   "outputs": [
    {
     "name": "stdout",
     "output_type": "stream",
     "text": [
      "폴더가 아님 - 파일명 : iris.csv\n",
      "폴더 MNIST - 파일명 : train.csv\n",
      "폴더 text - 파일명 : t10k.csv\n",
      "폴더 text - 파일명 : train.csv\n",
      "폴더 text - 파일명 : winequality-white.csv\n"
     ]
    }
   ],
   "source": [
    "file_type = 'csv'\n",
    "count = 0\n",
    "for data in datalist:\n",
    "    result = os.path.isdir(my_folder + data)\n",
    "    if result == True:\n",
    "        sublist = os.listdir(my_folder + data)\n",
    "        for sub in sublist:\n",
    "            if sub.endswith(file_type) :\n",
    "                print(f\"폴더 {data} - 파일명 : {sub}\")\n",
    "                count += 1\n",
    "    else :\n",
    "        if data.endswith(file_type) :\n",
    "            print(f\"폴더가 아님 - 파일명 : {data}\")\n",
    "            count += 1\n",
    "if count == 0 : print(f'{file_type}형식의 파일은 존재하지 않습니데이!!')"
   ],
   "metadata": {
    "collapsed": false,
    "ExecuteTime": {
     "end_time": "2024-03-21T06:44:17.098846Z",
     "start_time": "2024-03-21T06:44:17.091422Z"
    }
   },
   "id": "48a987fd5bf16e6d",
   "execution_count": 74
  },
  {
   "cell_type": "code",
   "outputs": [],
   "source": [
    "import cv2"
   ],
   "metadata": {
    "collapsed": false,
    "ExecuteTime": {
     "end_time": "2024-03-21T07:12:23.408679Z",
     "start_time": "2024-03-21T07:12:23.229015Z"
    }
   },
   "id": "b65ed9c8107e32e2",
   "execution_count": 1
  },
  {
   "cell_type": "code",
   "outputs": [
    {
     "name": "stdout",
     "output_type": "stream",
     "text": [
      "4.5.0\n"
     ]
    }
   ],
   "source": [
    "print(cv2.__version__)"
   ],
   "metadata": {
    "collapsed": false,
    "ExecuteTime": {
     "end_time": "2024-03-21T07:12:32.205406Z",
     "start_time": "2024-03-21T07:12:32.191744Z"
    }
   },
   "id": "140eda3f7746a3f",
   "execution_count": 3
  },
  {
   "cell_type": "code",
   "outputs": [],
   "source": [],
   "metadata": {
    "collapsed": false
   },
   "id": "697f015981e81c73"
  }
 ],
 "metadata": {
  "kernelspec": {
   "display_name": "Python 3",
   "language": "python",
   "name": "python3"
  },
  "language_info": {
   "codemirror_mode": {
    "name": "ipython",
    "version": 2
   },
   "file_extension": ".py",
   "mimetype": "text/x-python",
   "name": "python",
   "nbconvert_exporter": "python",
   "pygments_lexer": "ipython2",
   "version": "2.7.6"
  }
 },
 "nbformat": 4,
 "nbformat_minor": 5
}
