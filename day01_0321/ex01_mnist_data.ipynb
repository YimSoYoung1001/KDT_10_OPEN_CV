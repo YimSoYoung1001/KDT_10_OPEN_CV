{
 "cells": [
  {
   "cell_type": "markdown",
   "source": [
    "### 이미지 로데이터 파일에서 데이터 추출"
   ],
   "metadata": {
    "collapsed": false
   },
   "id": "6c51890dd542d9cd"
  },
  {
   "cell_type": "code",
   "outputs": [],
   "source": [
    "## [1] 파일 입출력 방식\n",
    "## with open() as ~\n",
    "\n",
    "file_path='../data/MNIST/t10k-images.idx3-ubyte'"
   ],
   "metadata": {
    "collapsed": false,
    "ExecuteTime": {
     "end_time": "2024-03-21T05:49:09.192933Z",
     "start_time": "2024-03-21T05:49:09.174950Z"
    }
   },
   "id": "c3d85d813c1b2d79",
   "execution_count": 155
  },
  {
   "cell_type": "code",
   "outputs": [],
   "source": [
    "# 파일 읽을 때 고려사항 => mode = br : 바이트 읽기 모드\n",
    "with open(file_path, mode = 'br') as f :\n",
    "    all_data = f.read()"
   ],
   "metadata": {
    "collapsed": false,
    "ExecuteTime": {
     "end_time": "2024-03-21T05:49:09.318216Z",
     "start_time": "2024-03-21T05:49:09.305516Z"
    }
   },
   "id": "e5401bc73d7bd8d5",
   "execution_count": 156
  },
  {
   "cell_type": "code",
   "outputs": [
    {
     "name": "stdout",
     "output_type": "stream",
     "text": [
      "<class 'bytes'> 7840016\n",
      "b\"\\x00\\x00\\x08\\x03\\x00\\x00'\\x10\\x00\\x00\\x00\\x1c\\x00\\x00\\x00\\x1c\\x00\\x00\\x00\\x00\\x00\\x00\\x00\\x00\\x00\\x00\\x00\\x00\\x00\\x00\\x00\\x00\\x00\\x00\\x00\\x00\\x00\\x00\\x00\\x00\\x00\\x00\\x00\\x00\\x00\\x00\\x00\\x00\\x00\\x00\\x00\\x00\\x00\\x00\\x00\\x00\\x00\\x00\\x00\\x00\\x00\\x00\\x00\\x00\\x00\\x00\\x00\\x00\\x00\\x00\\x00\\x00\\x00\\x00\\x00\\x00\\x00\\x00\\x00\\x00\\x00\\x00\\x00\\x00\\x00\\x00\\x00\\x00\\x00\\x00\\x00\\x00\\x00\\x00\\x00\\x00\\x00\\x00\\x00\\x00\"\n"
     ]
    }
   ],
   "source": [
    "print(type(all_data), len(all_data))\n",
    "print(all_data[:100])"
   ],
   "metadata": {
    "collapsed": false,
    "ExecuteTime": {
     "end_time": "2024-03-21T05:49:09.333934Z",
     "start_time": "2024-03-21T05:49:09.320335Z"
    }
   },
   "id": "dd3373e83795ea17",
   "execution_count": 157
  },
  {
   "cell_type": "code",
   "outputs": [
    {
     "name": "stdout",
     "output_type": "stream",
     "text": [
      "b'\\x00\\x00\\x08\\x03'\n",
      "b\"\\x00\\x00'\\x10\"\n",
      "b'\\x00\\x00\\x00\\x1c'\n",
      "b'\\x00\\x00\\x00\\x1c'\n"
     ]
    }
   ],
   "source": [
    "# 파일 읽을 때 고려사항 => mode = br : 바이트 읽기 모드\n",
    "with open(file_path, mode = 'br') as f :\n",
    "    magic_code = f.read(4)    # 앞에 4바이트만 읽겠다\n",
    "    print(magic_code)\n",
    "    \n",
    "    data_length = f.read(4)    # 그 다음 4바이트를 읽겠다.\n",
    "    print(data_length)\n",
    "    \n",
    "    row = f.read(4)            # 그 다음 4바이트를 읽겠다.\n",
    "    print(row)\n",
    "    \n",
    "    col = f.read(4)            # 그 다음 4바이트를 읽겠다.\n",
    "    print(col)"
   ],
   "metadata": {
    "collapsed": false,
    "ExecuteTime": {
     "end_time": "2024-03-21T05:49:09.349962Z",
     "start_time": "2024-03-21T05:49:09.336090Z"
    }
   },
   "id": "90636eb3cb4551f5",
   "execution_count": 158
  },
  {
   "cell_type": "code",
   "outputs": [
    {
     "data": {
      "text/plain": "'0000001c'"
     },
     "execution_count": 159,
     "metadata": {},
     "output_type": "execute_result"
    }
   ],
   "source": [
    "# 바이트 => 알아보는 문자로\n",
    "row.hex()       # 바이트가 hex로 바뀌었다. (타입은 문자열이 되었다.)"
   ],
   "metadata": {
    "collapsed": false,
    "ExecuteTime": {
     "end_time": "2024-03-21T05:49:09.365836Z",
     "start_time": "2024-03-21T05:49:09.351061Z"
    }
   },
   "id": "d92165bd26a5397a",
   "execution_count": 159
  },
  {
   "cell_type": "code",
   "outputs": [
    {
     "data": {
      "text/plain": "'0xa'"
     },
     "execution_count": 160,
     "metadata": {},
     "output_type": "execute_result"
    }
   ],
   "source": [
    "hex(10)"
   ],
   "metadata": {
    "collapsed": false,
    "ExecuteTime": {
     "end_time": "2024-03-21T05:49:09.387959Z",
     "start_time": "2024-03-21T05:49:09.367944Z"
    }
   },
   "id": "6481a06e23d28cf7",
   "execution_count": 160
  },
  {
   "cell_type": "markdown",
   "source": [
    "- [2] 파이선의 byte 데이터 변환 모듈 strluct 활용 <hr>"
   ],
   "metadata": {
    "collapsed": false
   },
   "id": "e557310a69b0d59e"
  },
  {
   "cell_type": "code",
   "outputs": [],
   "source": [
    "# 모듈 로딩\n",
    "import struct"
   ],
   "metadata": {
    "collapsed": false,
    "ExecuteTime": {
     "end_time": "2024-03-21T05:49:09.403802Z",
     "start_time": "2024-03-21T05:49:09.390104Z"
    }
   },
   "id": "f54ae298081f2c84",
   "execution_count": 161
  },
  {
   "cell_type": "code",
   "outputs": [],
   "source": [
    "# 데이터 추출 및 저장 관련 변수\n",
    "save_file = '../data/MNIST/mnist.csv'     #그냥 파일명만 하면 현재 위치에 저장됨. 경로까지 설정해야 그 위치에 저장됨"
   ],
   "metadata": {
    "collapsed": false,
    "ExecuteTime": {
     "end_time": "2024-03-21T05:49:09.419703Z",
     "start_time": "2024-03-21T05:49:09.404904Z"
    }
   },
   "id": "940755a53432852d",
   "execution_count": 162
  },
  {
   "cell_type": "code",
   "outputs": [],
   "source": [
    "# ==> 데이터 추출 및 저장 관련 변수\n",
    "# 학습용 : train.csv\n",
    "# 테스트용 : test.csv\n",
    "# 위치 : ../data/txt/\n",
    "\n",
    "save_dir = '../data/text/'\n",
    "data_dir = '../data/MNIST/'\n",
    "\n",
    "train_file = data_dir + 'train.csv'\n",
    "test_file = data_dir + 'test.csv'"
   ],
   "metadata": {
    "collapsed": false,
    "ExecuteTime": {
     "end_time": "2024-03-21T05:49:09.435598Z",
     "start_time": "2024-03-21T05:49:09.420757Z"
    }
   },
   "id": "9c0b35498c5c9fde",
   "execution_count": 163
  },
  {
   "cell_type": "code",
   "outputs": [],
   "source": [
    "# 사용자 정의 함수 --------------------------------------------------------\n",
    "# 기능 : rw data 파일을 읽어서 csv파일로 저장\n",
    "# 함수명 : to_csv\n",
    "# 매개변수 : 파일이름, 데이터수\n",
    "# 반환값 : 파일 생성 여부 True/False\n",
    "# -----------------------------------------------------------------------\n",
    "import os, struct\n",
    "\n",
    "# 디버깅 출력 제어 플래그 변수\n",
    "DEBUG = False\n",
    "\n",
    "# CSV 변환 기능 함수\n",
    "def to_csv(name, maxdata):\n",
    "    # (1) CSV 저장할 데이터 준비\n",
    "    # 레이블 파일과 이미지 파일 열기\n",
    "    lbl_f = open(data_dir + name + '-labels.idx1-ubyte', 'rb')\n",
    "    img_f = open(data_dir + name + '-images.idx3-ubyte', 'rb')\n",
    "    # rb => read byte 라고 바이트형식으로 된 파일을 읽는다는 거임\n",
    "    \n",
    "    # csv 파일 생성\n",
    "    csv_f = open(save_dir + name + '.csv', 'w', encoding = 'utf-8')\n",
    "    \n",
    "    # 헤더 정보 읽기\n",
    "    mag, lbl_count = struct.unpack('>II', lbl_f.read(8)) # 매직코드 + 레이블 갯수\n",
    "    mag, img_count = struct.unpack('>II', img_f.read(8)) # 매직코드 + 이미지 개수\n",
    "    rows, cols = struct.unpack('>II', img_f.read(8)) # 행, 열 갯수\n",
    "    pixels = rows * cols\n",
    "\n",
    "    print('lbl_count {}, img_count {}'.format(lbl_count, img_count))\n",
    "    print('rows {}, cols {}'.format(rows, cols))\n",
    "    \n",
    "    # (2) 이미지 데이터를 읽고 CSV로 저장\n",
    "    for idx in range(lbl_count):\n",
    "        if idx > maxdata : break\n",
    "        \n",
    "        # 숫자이미지 데이터가 의미하는 숫자값 읽기\n",
    "        # 튜플 타입 리턴 => 1개 데이터 (value,)\n",
    "        label = struct.unpack('B', lbl_f.read(1))[0]\n",
    "        if DEBUG : print('label = >{}'.format(label))\n",
    "        \n",
    "        # 이미지 데이터 읽기\n",
    "        bdata = img_f.read(pixels)\n",
    "        sdata = list(map(lambda n : str(n), bdata)) # 문자열로 변환\n",
    "        if DEBUG : print('sdata => {}'.format(sdata))\n",
    "        \n",
    "        # csv 파일에 쓰기 => 라벨, 데이터1, 데이터2, 데이터3, ... , 데이터 784\n",
    "        csv_f.write(str(label) + ',')         # 숫자 라벨 쓰기\n",
    "        csv_f.write(','.join(sdata) + '\\r\\n') # 리스트 이미지 데이터 -> 문자열 변환 쓰기\n",
    "        \n",
    "    csv_f.close()\n",
    "    lbl_f.close()\n",
    "    img_f.close()\n",
    "    \n",
    "    # 생성된 파일 존재 여부 확인 후 반환\n",
    "    return os.path.exists(save_dir + f'{name}.csv')"
   ],
   "metadata": {
    "collapsed": false,
    "ExecuteTime": {
     "end_time": "2024-03-21T11:31:58.716767Z",
     "start_time": "2024-03-21T11:31:58.696784Z"
    }
   },
   "id": "e7ba1525eab7c840",
   "execution_count": 1
  },
  {
   "cell_type": "code",
   "outputs": [
    {
     "name": "stdout",
     "output_type": "stream",
     "text": [
      "lbl_count 60000, img_count 60000\n",
      "rows 28, cols 28\n"
     ]
    },
    {
     "data": {
      "text/plain": "True"
     },
     "execution_count": 165,
     "metadata": {},
     "output_type": "execute_result"
    }
   ],
   "source": [
    "# 학습용 데이터 파일 생성\n",
    "to_csv('train', 10000)"
   ],
   "metadata": {
    "collapsed": false,
    "ExecuteTime": {
     "end_time": "2024-03-21T05:49:11.033998Z",
     "start_time": "2024-03-21T05:49:09.453456Z"
    }
   },
   "id": "72f403686ebceef9",
   "execution_count": 165
  },
  {
   "cell_type": "code",
   "outputs": [
    {
     "name": "stdout",
     "output_type": "stream",
     "text": [
      "lbl_count 10000, img_count 10000\n",
      "rows 28, cols 28\n"
     ]
    },
    {
     "data": {
      "text/plain": "True"
     },
     "execution_count": 166,
     "metadata": {},
     "output_type": "execute_result"
    }
   ],
   "source": [
    "# 테스트용 데이터 파일 생성\n",
    "to_csv('t10k', 1000)"
   ],
   "metadata": {
    "collapsed": false,
    "ExecuteTime": {
     "end_time": "2024-03-21T05:49:11.204723Z",
     "start_time": "2024-03-21T05:49:11.035105Z"
    }
   },
   "id": "24eef023b591fddb",
   "execution_count": 166
  },
  {
   "cell_type": "markdown",
   "source": [
    "- [3] 이미지 데이터 로딩 후 시각화 <hr>"
   ],
   "metadata": {
    "collapsed": false
   },
   "id": "192be91144b77345"
  },
  {
   "cell_type": "markdown",
   "source": [
    "- [3-1] 이미지 데이터 로딩 CSV => DataFrame 또는 Numpy"
   ],
   "metadata": {
    "collapsed": false
   },
   "id": "9837cfc428695c0f"
  },
  {
   "cell_type": "code",
   "outputs": [],
   "source": [
    "import pandas as pd\n",
    "import numpy as np"
   ],
   "metadata": {
    "collapsed": false,
    "ExecuteTime": {
     "end_time": "2024-03-21T05:49:11.220580Z",
     "start_time": "2024-03-21T05:49:11.205780Z"
    }
   },
   "id": "b10f513fa27811f3",
   "execution_count": 167
  },
  {
   "cell_type": "code",
   "outputs": [],
   "source": [
    "csv_data = np.loadtxt('../data/text/train.csv', delimiter=',')\n",
    "# csv_data"
   ],
   "metadata": {
    "collapsed": false,
    "ExecuteTime": {
     "end_time": "2024-03-21T05:49:11.897785Z",
     "start_time": "2024-03-21T05:49:11.222741Z"
    }
   },
   "id": "12e8b03e4c071900",
   "execution_count": 168
  },
  {
   "cell_type": "code",
   "outputs": [
    {
     "data": {
      "text/plain": "       0    1    2    3    4    5    6    7    8    9    ...  775  776  777  \\\n0        5    0    0    0    0    0    0    0    0    0  ...    0    0    0   \n1        0    0    0    0    0    0    0    0    0    0  ...    0    0    0   \n2        4    0    0    0    0    0    0    0    0    0  ...    0    0    0   \n3        1    0    0    0    0    0    0    0    0    0  ...    0    0    0   \n4        9    0    0    0    0    0    0    0    0    0  ...    0    0    0   \n...    ...  ...  ...  ...  ...  ...  ...  ...  ...  ...  ...  ...  ...  ...   \n9996     8    0    0    0    0    0    0    0    0    0  ...    0    0    0   \n9997     6    0    0    0    0    0    0    0    0    0  ...    0    0    0   \n9998     9    0    0    0    0    0    0    0    0    0  ...    0    0    0   \n9999     7    0    0    0    0    0    0    0    0    0  ...    0    0    0   \n10000    3    0    0    0    0    0    0    0    0    0  ...    0    0    0   \n\n       778  779  780  781  782  783  784  \n0        0    0    0    0    0    0    0  \n1        0    0    0    0    0    0    0  \n2        0    0    0    0    0    0    0  \n3        0    0    0    0    0    0    0  \n4        0    0    0    0    0    0    0  \n...    ...  ...  ...  ...  ...  ...  ...  \n9996     0    0    0    0    0    0    0  \n9997     0    0    0    0    0    0    0  \n9998     0    0    0    0    0    0    0  \n9999     0    0    0    0    0    0    0  \n10000    0    0    0    0    0    0    0  \n\n[10001 rows x 785 columns]",
      "text/html": "<div>\n<style scoped>\n    .dataframe tbody tr th:only-of-type {\n        vertical-align: middle;\n    }\n\n    .dataframe tbody tr th {\n        vertical-align: top;\n    }\n\n    .dataframe thead th {\n        text-align: right;\n    }\n</style>\n<table border=\"1\" class=\"dataframe\">\n  <thead>\n    <tr style=\"text-align: right;\">\n      <th></th>\n      <th>0</th>\n      <th>1</th>\n      <th>2</th>\n      <th>3</th>\n      <th>4</th>\n      <th>5</th>\n      <th>6</th>\n      <th>7</th>\n      <th>8</th>\n      <th>9</th>\n      <th>...</th>\n      <th>775</th>\n      <th>776</th>\n      <th>777</th>\n      <th>778</th>\n      <th>779</th>\n      <th>780</th>\n      <th>781</th>\n      <th>782</th>\n      <th>783</th>\n      <th>784</th>\n    </tr>\n  </thead>\n  <tbody>\n    <tr>\n      <th>0</th>\n      <td>5</td>\n      <td>0</td>\n      <td>0</td>\n      <td>0</td>\n      <td>0</td>\n      <td>0</td>\n      <td>0</td>\n      <td>0</td>\n      <td>0</td>\n      <td>0</td>\n      <td>...</td>\n      <td>0</td>\n      <td>0</td>\n      <td>0</td>\n      <td>0</td>\n      <td>0</td>\n      <td>0</td>\n      <td>0</td>\n      <td>0</td>\n      <td>0</td>\n      <td>0</td>\n    </tr>\n    <tr>\n      <th>1</th>\n      <td>0</td>\n      <td>0</td>\n      <td>0</td>\n      <td>0</td>\n      <td>0</td>\n      <td>0</td>\n      <td>0</td>\n      <td>0</td>\n      <td>0</td>\n      <td>0</td>\n      <td>...</td>\n      <td>0</td>\n      <td>0</td>\n      <td>0</td>\n      <td>0</td>\n      <td>0</td>\n      <td>0</td>\n      <td>0</td>\n      <td>0</td>\n      <td>0</td>\n      <td>0</td>\n    </tr>\n    <tr>\n      <th>2</th>\n      <td>4</td>\n      <td>0</td>\n      <td>0</td>\n      <td>0</td>\n      <td>0</td>\n      <td>0</td>\n      <td>0</td>\n      <td>0</td>\n      <td>0</td>\n      <td>0</td>\n      <td>...</td>\n      <td>0</td>\n      <td>0</td>\n      <td>0</td>\n      <td>0</td>\n      <td>0</td>\n      <td>0</td>\n      <td>0</td>\n      <td>0</td>\n      <td>0</td>\n      <td>0</td>\n    </tr>\n    <tr>\n      <th>3</th>\n      <td>1</td>\n      <td>0</td>\n      <td>0</td>\n      <td>0</td>\n      <td>0</td>\n      <td>0</td>\n      <td>0</td>\n      <td>0</td>\n      <td>0</td>\n      <td>0</td>\n      <td>...</td>\n      <td>0</td>\n      <td>0</td>\n      <td>0</td>\n      <td>0</td>\n      <td>0</td>\n      <td>0</td>\n      <td>0</td>\n      <td>0</td>\n      <td>0</td>\n      <td>0</td>\n    </tr>\n    <tr>\n      <th>4</th>\n      <td>9</td>\n      <td>0</td>\n      <td>0</td>\n      <td>0</td>\n      <td>0</td>\n      <td>0</td>\n      <td>0</td>\n      <td>0</td>\n      <td>0</td>\n      <td>0</td>\n      <td>...</td>\n      <td>0</td>\n      <td>0</td>\n      <td>0</td>\n      <td>0</td>\n      <td>0</td>\n      <td>0</td>\n      <td>0</td>\n      <td>0</td>\n      <td>0</td>\n      <td>0</td>\n    </tr>\n    <tr>\n      <th>...</th>\n      <td>...</td>\n      <td>...</td>\n      <td>...</td>\n      <td>...</td>\n      <td>...</td>\n      <td>...</td>\n      <td>...</td>\n      <td>...</td>\n      <td>...</td>\n      <td>...</td>\n      <td>...</td>\n      <td>...</td>\n      <td>...</td>\n      <td>...</td>\n      <td>...</td>\n      <td>...</td>\n      <td>...</td>\n      <td>...</td>\n      <td>...</td>\n      <td>...</td>\n      <td>...</td>\n    </tr>\n    <tr>\n      <th>9996</th>\n      <td>8</td>\n      <td>0</td>\n      <td>0</td>\n      <td>0</td>\n      <td>0</td>\n      <td>0</td>\n      <td>0</td>\n      <td>0</td>\n      <td>0</td>\n      <td>0</td>\n      <td>...</td>\n      <td>0</td>\n      <td>0</td>\n      <td>0</td>\n      <td>0</td>\n      <td>0</td>\n      <td>0</td>\n      <td>0</td>\n      <td>0</td>\n      <td>0</td>\n      <td>0</td>\n    </tr>\n    <tr>\n      <th>9997</th>\n      <td>6</td>\n      <td>0</td>\n      <td>0</td>\n      <td>0</td>\n      <td>0</td>\n      <td>0</td>\n      <td>0</td>\n      <td>0</td>\n      <td>0</td>\n      <td>0</td>\n      <td>...</td>\n      <td>0</td>\n      <td>0</td>\n      <td>0</td>\n      <td>0</td>\n      <td>0</td>\n      <td>0</td>\n      <td>0</td>\n      <td>0</td>\n      <td>0</td>\n      <td>0</td>\n    </tr>\n    <tr>\n      <th>9998</th>\n      <td>9</td>\n      <td>0</td>\n      <td>0</td>\n      <td>0</td>\n      <td>0</td>\n      <td>0</td>\n      <td>0</td>\n      <td>0</td>\n      <td>0</td>\n      <td>0</td>\n      <td>...</td>\n      <td>0</td>\n      <td>0</td>\n      <td>0</td>\n      <td>0</td>\n      <td>0</td>\n      <td>0</td>\n      <td>0</td>\n      <td>0</td>\n      <td>0</td>\n      <td>0</td>\n    </tr>\n    <tr>\n      <th>9999</th>\n      <td>7</td>\n      <td>0</td>\n      <td>0</td>\n      <td>0</td>\n      <td>0</td>\n      <td>0</td>\n      <td>0</td>\n      <td>0</td>\n      <td>0</td>\n      <td>0</td>\n      <td>...</td>\n      <td>0</td>\n      <td>0</td>\n      <td>0</td>\n      <td>0</td>\n      <td>0</td>\n      <td>0</td>\n      <td>0</td>\n      <td>0</td>\n      <td>0</td>\n      <td>0</td>\n    </tr>\n    <tr>\n      <th>10000</th>\n      <td>3</td>\n      <td>0</td>\n      <td>0</td>\n      <td>0</td>\n      <td>0</td>\n      <td>0</td>\n      <td>0</td>\n      <td>0</td>\n      <td>0</td>\n      <td>0</td>\n      <td>...</td>\n      <td>0</td>\n      <td>0</td>\n      <td>0</td>\n      <td>0</td>\n      <td>0</td>\n      <td>0</td>\n      <td>0</td>\n      <td>0</td>\n      <td>0</td>\n      <td>0</td>\n    </tr>\n  </tbody>\n</table>\n<p>10001 rows × 785 columns</p>\n</div>"
     },
     "execution_count": 169,
     "metadata": {},
     "output_type": "execute_result"
    }
   ],
   "source": [
    "file = pd.read_csv('../data/text/train.csv', header = None)\n",
    "file"
   ],
   "metadata": {
    "collapsed": false,
    "ExecuteTime": {
     "end_time": "2024-03-21T05:49:12.224552Z",
     "start_time": "2024-03-21T05:49:11.898786Z"
    }
   },
   "id": "a74609dbf28b9a4f",
   "execution_count": 169
  },
  {
   "cell_type": "code",
   "outputs": [
    {
     "data": {
      "text/plain": "(785,)"
     },
     "execution_count": 170,
     "metadata": {},
     "output_type": "execute_result"
    }
   ],
   "source": [
    "file.iloc[0].shape"
   ],
   "metadata": {
    "collapsed": false,
    "ExecuteTime": {
     "end_time": "2024-03-21T05:49:12.240227Z",
     "start_time": "2024-03-21T05:49:12.225638Z"
    }
   },
   "id": "30cfeeb043dc88a",
   "execution_count": 170
  },
  {
   "cell_type": "code",
   "outputs": [
    {
     "data": {
      "text/plain": "((10001,), (10001, 784))"
     },
     "execution_count": 171,
     "metadata": {},
     "output_type": "execute_result"
    }
   ],
   "source": [
    "# 이미지 데이터와 라벨 분리\n",
    "labels = file[0]\n",
    "img_data = file.iloc[:,1:]\n",
    "\n",
    "labels.shape, img_data.shape"
   ],
   "metadata": {
    "collapsed": false,
    "ExecuteTime": {
     "end_time": "2024-03-21T05:49:12.256275Z",
     "start_time": "2024-03-21T05:49:12.241313Z"
    }
   },
   "id": "167e6f671db4ac8e",
   "execution_count": 171
  },
  {
   "cell_type": "code",
   "outputs": [
    {
     "data": {
      "text/plain": "   1    2    3    4    5    6    7    8    9    10   ...  775  776  777  778  \\\n0    0    0    0    0    0    0    0    0    0    0  ...    0    0    0    0   \n1    0    0    0    0    0    0    0    0    0    0  ...    0    0    0    0   \n2    0    0    0    0    0    0    0    0    0    0  ...    0    0    0    0   \n\n   779  780  781  782  783  784  \n0    0    0    0    0    0    0  \n1    0    0    0    0    0    0  \n2    0    0    0    0    0    0  \n\n[3 rows x 784 columns]",
      "text/html": "<div>\n<style scoped>\n    .dataframe tbody tr th:only-of-type {\n        vertical-align: middle;\n    }\n\n    .dataframe tbody tr th {\n        vertical-align: top;\n    }\n\n    .dataframe thead th {\n        text-align: right;\n    }\n</style>\n<table border=\"1\" class=\"dataframe\">\n  <thead>\n    <tr style=\"text-align: right;\">\n      <th></th>\n      <th>1</th>\n      <th>2</th>\n      <th>3</th>\n      <th>4</th>\n      <th>5</th>\n      <th>6</th>\n      <th>7</th>\n      <th>8</th>\n      <th>9</th>\n      <th>10</th>\n      <th>...</th>\n      <th>775</th>\n      <th>776</th>\n      <th>777</th>\n      <th>778</th>\n      <th>779</th>\n      <th>780</th>\n      <th>781</th>\n      <th>782</th>\n      <th>783</th>\n      <th>784</th>\n    </tr>\n  </thead>\n  <tbody>\n    <tr>\n      <th>0</th>\n      <td>0</td>\n      <td>0</td>\n      <td>0</td>\n      <td>0</td>\n      <td>0</td>\n      <td>0</td>\n      <td>0</td>\n      <td>0</td>\n      <td>0</td>\n      <td>0</td>\n      <td>...</td>\n      <td>0</td>\n      <td>0</td>\n      <td>0</td>\n      <td>0</td>\n      <td>0</td>\n      <td>0</td>\n      <td>0</td>\n      <td>0</td>\n      <td>0</td>\n      <td>0</td>\n    </tr>\n    <tr>\n      <th>1</th>\n      <td>0</td>\n      <td>0</td>\n      <td>0</td>\n      <td>0</td>\n      <td>0</td>\n      <td>0</td>\n      <td>0</td>\n      <td>0</td>\n      <td>0</td>\n      <td>0</td>\n      <td>...</td>\n      <td>0</td>\n      <td>0</td>\n      <td>0</td>\n      <td>0</td>\n      <td>0</td>\n      <td>0</td>\n      <td>0</td>\n      <td>0</td>\n      <td>0</td>\n      <td>0</td>\n    </tr>\n    <tr>\n      <th>2</th>\n      <td>0</td>\n      <td>0</td>\n      <td>0</td>\n      <td>0</td>\n      <td>0</td>\n      <td>0</td>\n      <td>0</td>\n      <td>0</td>\n      <td>0</td>\n      <td>0</td>\n      <td>...</td>\n      <td>0</td>\n      <td>0</td>\n      <td>0</td>\n      <td>0</td>\n      <td>0</td>\n      <td>0</td>\n      <td>0</td>\n      <td>0</td>\n      <td>0</td>\n      <td>0</td>\n    </tr>\n  </tbody>\n</table>\n<p>3 rows × 784 columns</p>\n</div>"
     },
     "execution_count": 172,
     "metadata": {},
     "output_type": "execute_result"
    }
   ],
   "source": [
    "img_data[:3]"
   ],
   "metadata": {
    "collapsed": false,
    "ExecuteTime": {
     "end_time": "2024-03-21T05:49:12.271479Z",
     "start_time": "2024-03-21T05:49:12.257344Z"
    }
   },
   "id": "dc2ba3f808954992",
   "execution_count": 172
  },
  {
   "cell_type": "markdown",
   "source": [
    "- [3-2] 데이터 시각하"
   ],
   "metadata": {
    "collapsed": false
   },
   "id": "92c31528a73890d2"
  },
  {
   "cell_type": "code",
   "outputs": [],
   "source": [
    "import matplotlib.pyplot as plt"
   ],
   "metadata": {
    "collapsed": false,
    "ExecuteTime": {
     "end_time": "2024-03-21T05:49:12.287291Z",
     "start_time": "2024-03-21T05:49:12.272520Z"
    }
   },
   "id": "87c7fa88d25d000f",
   "execution_count": 173
  },
  {
   "cell_type": "code",
   "outputs": [
    {
     "data": {
      "text/plain": "(numpy.ndarray, (784,), 1)"
     },
     "execution_count": 174,
     "metadata": {},
     "output_type": "execute_result"
    }
   ],
   "source": [
    "# 1D 이미지 데이터 => 2D 이미지 데이터 변환\n",
    "raw_img = img_data.iloc[0].values\n",
    "\n",
    "type(raw_img), raw_img.shape, raw_img.ndim"
   ],
   "metadata": {
    "collapsed": false,
    "ExecuteTime": {
     "end_time": "2024-03-21T05:49:12.302670Z",
     "start_time": "2024-03-21T05:49:12.288348Z"
    }
   },
   "id": "7366f671a9977cb1",
   "execution_count": 174
  },
  {
   "cell_type": "code",
   "outputs": [
    {
     "data": {
      "text/plain": "(numpy.ndarray, (28, 28), 2)"
     },
     "execution_count": 175,
     "metadata": {},
     "output_type": "execute_result"
    }
   ],
   "source": [
    "raw_img = raw_img.reshape(-1 ,28)\n",
    "type(raw_img), raw_img.shape, raw_img.ndim"
   ],
   "metadata": {
    "collapsed": false,
    "ExecuteTime": {
     "end_time": "2024-03-21T05:49:12.318749Z",
     "start_time": "2024-03-21T05:49:12.303746Z"
    }
   },
   "id": "fded13c7b3988135",
   "execution_count": 175
  },
  {
   "cell_type": "code",
   "outputs": [
    {
     "data": {
      "text/plain": "<Figure size 640x480 with 1 Axes>",
      "image/png": "[encoded data removed]"
     },
     "metadata": {},
     "output_type": "display_data"
    }
   ],
   "source": [
    "# 시각화\n",
    "plt.imshow(raw_img, cmap = 'gray')\n",
    "plt.title(f\"[ Image Label {labels[0]} ]\", color = 'green')\n",
    "plt.axis('off')\n",
    "plt.show()"
   ],
   "metadata": {
    "collapsed": false,
    "ExecuteTime": {
     "end_time": "2024-03-21T05:49:12.397670Z",
     "start_time": "2024-03-21T05:49:12.319843Z"
    }
   },
   "id": "8d3fb6e13b79e539",
   "execution_count": 176
  },
  {
   "cell_type": "code",
   "outputs": [],
   "source": [],
   "metadata": {
    "collapsed": false,
    "ExecuteTime": {
     "end_time": "2024-03-21T05:49:12.413674Z",
     "start_time": "2024-03-21T05:49:12.401772Z"
    }
   },
   "id": "9b8d199516ce066",
   "execution_count": 176
  }
 ],
 "metadata": {
  "kernelspec": {
   "display_name": "Python 3",
   "language": "python",
   "name": "python3"
  },
  "language_info": {
   "codemirror_mode": {
    "name": "ipython",
    "version": 2
   },
   "file_extension": ".py",
   "mimetype": "text/x-python",
   "name": "python",
   "nbconvert_exporter": "python",
   "pygments_lexer": "ipython2",
   "version": "2.7.6"
  }
 },
 "nbformat": 4,
 "nbformat_minor": 5
}
