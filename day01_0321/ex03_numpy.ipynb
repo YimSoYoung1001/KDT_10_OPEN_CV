{
 "cells": [
  {
   "cell_type": "code",
   "execution_count": 151,
   "id": "initial_id",
   "metadata": {
    "collapsed": true,
    "ExecuteTime": {
     "end_time": "2024-03-21T07:42:14.403250Z",
     "start_time": "2024-03-21T07:42:14.389349Z"
    }
   },
   "outputs": [],
   "source": [
    "# 모듈 로딩 및 \n",
    "import numpy as np"
   ]
  },
  {
   "cell_type": "code",
   "outputs": [
    {
     "data": {
      "text/plain": "array([0., 0.])"
     },
     "execution_count": 152,
     "metadata": {},
     "output_type": "execute_result"
    }
   ],
   "source": [
    "# ndarray 타입 데이터 생성\n",
    "\n",
    "# 0으로 채워진 ndarray 객체 생성 ==> zeros()\n",
    "np.zeros(2)"
   ],
   "metadata": {
    "collapsed": false,
    "ExecuteTime": {
     "end_time": "2024-03-21T07:42:14.449211Z",
     "start_time": "2024-03-21T07:42:14.436085Z"
    }
   },
   "id": "b153d350548a9ca2",
   "execution_count": 152
  },
  {
   "cell_type": "code",
   "outputs": [
    {
     "data": {
      "text/plain": "array([[0, 0, 0],\n       [0, 0, 0]], dtype=int8)"
     },
     "execution_count": 153,
     "metadata": {},
     "output_type": "execute_result"
    }
   ],
   "source": [
    "np.zeros((2,3), dtype = np.int8)"
   ],
   "metadata": {
    "collapsed": false,
    "ExecuteTime": {
     "end_time": "2024-03-21T07:42:14.542675Z",
     "start_time": "2024-03-21T07:42:14.520513Z"
    }
   },
   "id": "c2252c425e948d6a",
   "execution_count": 153
  },
  {
   "cell_type": "code",
   "outputs": [
    {
     "data": {
      "text/plain": "(array([1., 1., 1., 1., 1., 1., 1., 1., 1., 1.]),\n array([1, 1, 1, 1, 1, 1, 1, 1, 1, 1]))"
     },
     "execution_count": 154,
     "metadata": {},
     "output_type": "execute_result"
    }
   ],
   "source": [
    "# 1로 채워진 ndarray 객체 생성 => ones()\n",
    "np.ones(10), np.ones(10, dtype = np.int32)"
   ],
   "metadata": {
    "collapsed": false,
    "ExecuteTime": {
     "end_time": "2024-03-21T07:42:14.557824Z",
     "start_time": "2024-03-21T07:42:14.544852Z"
    }
   },
   "id": "5152b9cdbb6af3df",
   "execution_count": 154
  },
  {
   "cell_type": "code",
   "outputs": [
    {
     "data": {
      "text/plain": "array([[2, 2, 4, 1, 1, 4, 3, 3, 3, 4],\n       [3, 3, 4, 4, 1, 3, 3, 4, 2, 3],\n       [4, 2, 3, 4, 2, 4, 1, 2, 3, 4]])"
     },
     "execution_count": 155,
     "metadata": {},
     "output_type": "execute_result"
    }
   ],
   "source": [
    "# 랜덤 데이터로 ndarray 객체 생성 ==> random\n",
    "np.random.randint(1, 5, (3, 10))\n",
    "\n",
    "# 1,2,3,4 중에서 랜덤으로 선택해서 3행 10열 생성함"
   ],
   "metadata": {
    "collapsed": false,
    "ExecuteTime": {
     "end_time": "2024-03-21T07:42:14.595075Z",
     "start_time": "2024-03-21T07:42:14.559976Z"
    }
   },
   "id": "ea34cb9f1ec7196d",
   "execution_count": 155
  },
  {
   "cell_type": "code",
   "outputs": [
    {
     "data": {
      "text/plain": "array([[0.25290961, 0.0474055 ],\n       [0.92940665, 0.23614132],\n       [0.81090494, 0.12618166],\n       [0.07570637, 0.68558821],\n       [0.94707403, 0.31567349]])"
     },
     "execution_count": 156,
     "metadata": {},
     "output_type": "execute_result"
    }
   ],
   "source": [
    "# 0 <= 범위 < 1\n",
    "np.random.rand(5, 2)"
   ],
   "metadata": {
    "collapsed": false,
    "ExecuteTime": {
     "end_time": "2024-03-21T07:42:14.626988Z",
     "start_time": "2024-03-21T07:42:14.608946Z"
    }
   },
   "id": "aac15e87ee35ff30",
   "execution_count": 156
  },
  {
   "cell_type": "code",
   "outputs": [
    {
     "data": {
      "text/plain": "(array([ 0.35099715,  0.3749871 ,  0.71201646,  0.73582661, -0.26122281]),\n array([[[ 1.04261732, -0.371615  ,  0.906895  ],\n         [ 1.06395375, -0.58313364,  0.23533815]],\n \n        [[ 0.62590409, -0.57606516,  0.56858375],\n         [ 0.11599273, -0.15944566, -0.04440599]],\n \n        [[-1.9344677 ,  0.2072362 ,  0.09739415],\n         [-0.10913821,  0.6752176 ,  1.02096908]],\n \n        [[ 0.52845098,  0.18180266, -0.11186876],\n         [-1.59203303,  0.72865586, -0.33880365]],\n \n        [[-2.14863262,  0.75642354,  0.00444073],\n         [ 0.73305899, -0.08000291,  1.67389066]],\n \n        [[-0.01070587, -0.140984  , -0.44136521],\n         [-0.81838988,  0.81529132,  0.80843557]]]))"
     },
     "execution_count": 157,
     "metadata": {},
     "output_type": "execute_result"
    }
   ],
   "source": [
    "np.random.randn(5), np.random.randn(6,2,3)"
   ],
   "metadata": {
    "collapsed": false,
    "ExecuteTime": {
     "end_time": "2024-03-21T07:42:14.643047Z",
     "start_time": "2024-03-21T07:42:14.629121Z"
    }
   },
   "id": "b79661832054c2a2",
   "execution_count": 157
  },
  {
   "cell_type": "code",
   "outputs": [
    {
     "data": {
      "text/plain": "array([ 0.05056171,  0.49995133, -0.99590893,  0.69359851, -0.41830152])"
     },
     "execution_count": 158,
     "metadata": {},
     "output_type": "execute_result"
    }
   ],
   "source": [
    "# 랜덤 고정\n",
    "np.random.seed(4)\n",
    "\n",
    "np.random.randn(5)"
   ],
   "metadata": {
    "collapsed": false,
    "ExecuteTime": {
     "end_time": "2024-03-21T07:42:14.659164Z",
     "start_time": "2024-03-21T07:42:14.645190Z"
    }
   },
   "id": "67c697e11faf38c8",
   "execution_count": 158
  },
  {
   "cell_type": "code",
   "outputs": [
    {
     "name": "stdout",
     "output_type": "stream",
     "text": [
      "[-1.58457724 -0.64770677  0.59857517  0.33225003 -1.14747663  0.61866969\n",
      " -0.08798693  0.4250724   0.33225315 -1.15681626]\n",
      "[-1.14747663  0.33225315 -1.58457724  0.61866969 -0.08798693 -0.64770677\n",
      " -1.15681626  0.4250724   0.33225003  0.59857517]\n"
     ]
    }
   ],
   "source": [
    "data = np.random.randn(10)\n",
    "print(data)\n",
    "np.random.shuffle(data)\n",
    "print(data)"
   ],
   "metadata": {
    "collapsed": false,
    "ExecuteTime": {
     "end_time": "2024-03-21T07:42:14.675112Z",
     "start_time": "2024-03-21T07:42:14.661285Z"
    }
   },
   "id": "b3c31f4a58f2c30a",
   "execution_count": 159
  },
  {
   "cell_type": "code",
   "outputs": [
    {
     "data": {
      "text/plain": "(-2.317743386975293, 0.6186696890268814, -1.5845772351121241)"
     },
     "execution_count": 160,
     "metadata": {},
     "output_type": "execute_result"
    }
   ],
   "source": [
    "data.sum(), data.max(), data.min()"
   ],
   "metadata": {
    "collapsed": false,
    "ExecuteTime": {
     "end_time": "2024-03-21T07:42:14.691060Z",
     "start_time": "2024-03-21T07:42:14.677246Z"
    }
   },
   "id": "182d9b52ef3b7835",
   "execution_count": 160
  },
  {
   "cell_type": "code",
   "outputs": [
    {
     "data": {
      "text/plain": "(3, 2, array([2, 6, 0, 5, 4, 8, 1, 7, 9, 3], dtype=int64))"
     },
     "execution_count": 161,
     "metadata": {},
     "output_type": "execute_result"
    }
   ],
   "source": [
    "data.argmax(), data.argmin(), data.argsort()"
   ],
   "metadata": {
    "collapsed": false,
    "ExecuteTime": {
     "end_time": "2024-03-21T07:42:14.706019Z",
     "start_time": "2024-03-21T07:42:14.693190Z"
    }
   },
   "id": "315ef7ae9bf75b40",
   "execution_count": 161
  },
  {
   "cell_type": "markdown",
   "source": [
    "##### 넘파이 자습하긔"
   ],
   "metadata": {
    "collapsed": false
   },
   "id": "8995e01ed4e77103"
  },
  {
   "cell_type": "code",
   "outputs": [
    {
     "data": {
      "text/plain": "array([[[8., 8., 8.],\n        [8., 8., 8.]],\n\n       [[8., 8., 8.],\n        [8., 8., 8.]],\n\n       [[8., 8., 8.],\n        [8., 8., 8.]],\n\n       [[8., 8., 8.],\n        [8., 8., 8.]],\n\n       [[8., 8., 8.],\n        [8., 8., 8.]],\n\n       [[8., 8., 8.],\n        [8., 8., 8.]]])"
     },
     "execution_count": 164,
     "metadata": {},
     "output_type": "execute_result"
    }
   ],
   "source": [
    "np.full((6,2,3), 8, dtype = float)"
   ],
   "metadata": {
    "collapsed": false,
    "ExecuteTime": {
     "end_time": "2024-03-21T07:43:44.829132Z",
     "start_time": "2024-03-21T07:43:44.821746Z"
    }
   },
   "id": "c9c23cf933a8d93a",
   "execution_count": 164
  },
  {
   "cell_type": "code",
   "outputs": [
    {
     "data": {
      "text/plain": "array([[1.]])"
     },
     "execution_count": 165,
     "metadata": {},
     "output_type": "execute_result"
    }
   ],
   "source": [
    "np.eye(1)"
   ],
   "metadata": {
    "collapsed": false,
    "ExecuteTime": {
     "end_time": "2024-03-21T07:44:00.594576Z",
     "start_time": "2024-03-21T07:44:00.581580Z"
    }
   },
   "id": "d20e882d0f7699d6",
   "execution_count": 165
  },
  {
   "cell_type": "code",
   "outputs": [
    {
     "data": {
      "text/plain": "array([[1., 0., 0.],\n       [0., 1., 0.]])"
     },
     "execution_count": 166,
     "metadata": {},
     "output_type": "execute_result"
    }
   ],
   "source": [
    "np.eye(2,3)"
   ],
   "metadata": {
    "collapsed": false,
    "ExecuteTime": {
     "end_time": "2024-03-21T07:44:11.121225Z",
     "start_time": "2024-03-21T07:44:11.111450Z"
    }
   },
   "id": "462468e2fcf26d5e",
   "execution_count": 166
  },
  {
   "cell_type": "code",
   "outputs": [
    {
     "data": {
      "text/plain": "array([[0., 0., 1., 0., 0., 0., 0., 0., 0., 0.],\n       [0., 0., 0., 1., 0., 0., 0., 0., 0., 0.],\n       [0., 0., 0., 0., 1., 0., 0., 0., 0., 0.],\n       [0., 0., 0., 0., 0., 1., 0., 0., 0., 0.],\n       [0., 0., 0., 0., 0., 0., 1., 0., 0., 0.],\n       [0., 0., 0., 0., 0., 0., 0., 1., 0., 0.],\n       [0., 0., 0., 0., 0., 0., 0., 0., 1., 0.],\n       [0., 0., 0., 0., 0., 0., 0., 0., 0., 1.],\n       [0., 0., 0., 0., 0., 0., 0., 0., 0., 0.],\n       [0., 0., 0., 0., 0., 0., 0., 0., 0., 0.]])"
     },
     "execution_count": 169,
     "metadata": {},
     "output_type": "execute_result"
    }
   ],
   "source": [
    "np.eye(10,k=2)"
   ],
   "metadata": {
    "collapsed": false,
    "ExecuteTime": {
     "end_time": "2024-03-21T07:44:40.770076Z",
     "start_time": "2024-03-21T07:44:40.750942Z"
    }
   },
   "id": "2fcb4ad634267da9",
   "execution_count": 169
  },
  {
   "cell_type": "code",
   "outputs": [
    {
     "data": {
      "text/plain": "array([1.06599590e-311, 1.06599552e-311])"
     },
     "execution_count": 173,
     "metadata": {},
     "output_type": "execute_result"
    }
   ],
   "source": [
    "np.empty((2,))"
   ],
   "metadata": {
    "collapsed": false,
    "ExecuteTime": {
     "end_time": "2024-03-21T07:46:46.505915Z",
     "start_time": "2024-03-21T07:46:46.491016Z"
    }
   },
   "id": "6e41a6dda0985ed2",
   "execution_count": 173
  },
  {
   "cell_type": "code",
   "outputs": [
    {
     "data": {
      "text/plain": "array([[1],\n       [1],\n       [1]])"
     },
     "execution_count": 175,
     "metadata": {},
     "output_type": "execute_result"
    }
   ],
   "source": [
    "k = np.array([[1], [2], [3]])\n",
    "np.ones_like(k)"
   ],
   "metadata": {
    "collapsed": false,
    "ExecuteTime": {
     "end_time": "2024-03-21T07:47:58.577546Z",
     "start_time": "2024-03-21T07:47:58.559021Z"
    }
   },
   "id": "e8976b15a41670e1",
   "execution_count": 175
  },
  {
   "cell_type": "code",
   "outputs": [],
   "source": [
    "n"
   ],
   "metadata": {
    "collapsed": false,
    "ExecuteTime": {
     "end_time": "2024-03-21T07:42:14.877334Z",
     "start_time": "2024-03-21T07:42:14.864932Z"
    }
   },
   "id": "af78138c7afc532b",
   "execution_count": 162
  },
  {
   "cell_type": "code",
   "outputs": [],
   "source": [],
   "metadata": {
    "collapsed": false,
    "ExecuteTime": {
     "end_time": "2024-03-21T07:42:14.892240Z",
     "start_time": "2024-03-21T07:42:14.880495Z"
    }
   },
   "id": "9a5b864b0096f074",
   "execution_count": 162
  },
  {
   "cell_type": "code",
   "outputs": [],
   "source": [],
   "metadata": {
    "collapsed": false,
    "ExecuteTime": {
     "end_time": "2024-03-21T07:42:14.907782Z",
     "start_time": "2024-03-21T07:42:14.894443Z"
    }
   },
   "id": "d95864d1ab28099e",
   "execution_count": 162
  },
  {
   "cell_type": "code",
   "outputs": [],
   "source": [],
   "metadata": {
    "collapsed": false,
    "ExecuteTime": {
     "end_time": "2024-03-21T07:42:14.923686Z",
     "start_time": "2024-03-21T07:42:14.909936Z"
    }
   },
   "id": "aae02d6baba0dd3a",
   "execution_count": 162
  }
 ],
 "metadata": {
  "kernelspec": {
   "display_name": "Python 3",
   "language": "python",
   "name": "python3"
  },
  "language_info": {
   "codemirror_mode": {
    "name": "ipython",
    "version": 2
   },
   "file_extension": ".py",
   "mimetype": "text/x-python",
   "name": "python",
   "nbconvert_exporter": "python",
   "pygments_lexer": "ipython2",
   "version": "2.7.6"
  }
 },
 "nbformat": 4,
 "nbformat_minor": 5
}
