{
 "cells": [
  {
   "cell_type": "markdown",
   "source": [
    "iris로 데이터셋 만들기"
   ],
   "metadata": {
    "collapsed": false
   },
   "id": "cafa775baef92e7a"
  },
  {
   "cell_type": "code",
   "outputs": [],
   "source": [
    "import pandas as pd\n",
    "import torch\n",
    "import torch.nn as nn\n",
    "import torch.optim as optim\n",
    "from torch.utils.data import Dataset, DataLoader\n",
    "from sklearn.preprocessing import LabelEncoder"
   ],
   "metadata": {
    "collapsed": false,
    "ExecuteTime": {
     "end_time": "2024-03-25T05:44:08.593060Z",
     "start_time": "2024-03-25T05:44:08.583581Z"
    }
   },
   "id": "b112c2ae34942592",
   "execution_count": 19
  },
  {
   "cell_type": "code",
   "outputs": [],
   "source": [
    "class IrisDataset(Dataset):\n",
    "    # 초기화 콜백\n",
    "    def __init__(self, csv_file): \n",
    "        super().__init__()\n",
    "        data = pd.read_csv(csv_file)\n",
    "        \n",
    "        self.x = data.iloc[:,:-1].values #feature\n",
    "        self.y = data.iloc[:,-1].values # target\n",
    "        \n",
    "        # 타겟(str) 인코딩하기\n",
    "        label_encoder = LabelEncoder()\n",
    "        y = label_encoder.fit_transform(self.y)\n",
    "        self.y = y\n",
    "        #tensorize\n",
    "        self.feature = torch.tensor(self.y,dtype=torch.long)\n",
    "        self.target = torch.FloatTensor(self.x)\n",
    "        \n",
    "    #데이터셋 길이 체크(개수) 콜백    \n",
    "    def __len__(self):\n",
    "        return len(self.target) # return self.target.shape[0]\n",
    "    \n",
    "    #특정 인덱스 + 라벨(타겟) 데이터 반환 콜백함수\n",
    "    def __getitem__(self, idx):\n",
    "        return self.target[idx], self.feature[idx]"
   ],
   "metadata": {
    "collapsed": false,
    "ExecuteTime": {
     "end_time": "2024-03-25T05:44:08.608189Z",
     "start_time": "2024-03-25T05:44:08.600215Z"
    }
   },
   "id": "73e4988a9d82ba10",
   "execution_count": 20
  },
  {
   "cell_type": "code",
   "outputs": [],
   "source": [
    "dataset = IrisDataset('../../datas/iris.csv') \n",
    "dataloader = DataLoader(dataset, batch_size=4, shuffle=True)"
   ],
   "metadata": {
    "collapsed": false,
    "ExecuteTime": {
     "end_time": "2024-03-25T05:44:08.639085Z",
     "start_time": "2024-03-25T05:44:08.618158Z"
    }
   },
   "id": "cfcc09dc7b7c990f",
   "execution_count": 21
  },
  {
   "cell_type": "code",
   "outputs": [
    {
     "data": {
      "text/plain": "(tensor([5.1000, 3.5000, 1.4000, 0.2000]), tensor(0))"
     },
     "execution_count": 22,
     "metadata": {},
     "output_type": "execute_result"
    }
   ],
   "source": [
    "# __getitem__(0)\n",
    "dataset[0]"
   ],
   "metadata": {
    "collapsed": false,
    "ExecuteTime": {
     "end_time": "2024-03-25T05:44:08.654450Z",
     "start_time": "2024-03-25T05:44:08.640082Z"
    }
   },
   "id": "8a95ffdcff35e143",
   "execution_count": 22
  },
  {
   "cell_type": "markdown",
   "source": [
    "### DATALOADER\n",
    "- batch_size, shuffle, drop_last, sampler"
   ],
   "metadata": {
    "collapsed": false
   },
   "id": "4ed4afc04eee1dad"
  },
  {
   "cell_type": "code",
   "outputs": [],
   "source": [
    "# 로딩된 데이터 확인 함수\n",
    "def print_batch_data(loader,epochs, batch_size = 1, shuffle = False, drop_last = False, sampler = None) : #sampler과 shuffle는 함께 쓸 수 없음: 하나가 true면 하나는 False\n",
    "    print(f'[설정값] batchsize = {batch_size}, shuffle: {shuffle}, drop_last = {drop_last}, sampler = {sampler}')\n",
    "    for ep in range(epochs):\n",
    "        print(f'[{ep}] EPOCHS===================Batch {len(loader)}===')\n",
    "        for (feature,label) in loader:\n",
    "            print(feature.shape, label.shape, label)"
   ],
   "metadata": {
    "collapsed": false,
    "ExecuteTime": {
     "end_time": "2024-03-25T05:49:13.694023Z",
     "start_time": "2024-03-25T05:49:13.680057Z"
    }
   },
   "id": "ab57c1f37efe9e82",
   "execution_count": 29
  },
  {
   "cell_type": "code",
   "outputs": [
    {
     "name": "stdout",
     "output_type": "stream",
     "text": [
      "[설정값] batchsize = 1, shuffle: False, drop_last = False, sampler = None\n",
      "[0] EPOCHS===================Batch 150===\n",
      "torch.Size([1, 4]) torch.Size([1]) tensor([0])\n",
      "torch.Size([1, 4]) torch.Size([1]) tensor([0])\n",
      "torch.Size([1, 4]) torch.Size([1]) tensor([0])\n",
      "torch.Size([1, 4]) torch.Size([1]) tensor([0])\n",
      "torch.Size([1, 4]) torch.Size([1]) tensor([0])\n",
      "torch.Size([1, 4]) torch.Size([1]) tensor([0])\n",
      "torch.Size([1, 4]) torch.Size([1]) tensor([0])\n",
      "torch.Size([1, 4]) torch.Size([1]) tensor([0])\n",
      "torch.Size([1, 4]) torch.Size([1]) tensor([0])\n",
      "torch.Size([1, 4]) torch.Size([1]) tensor([0])\n",
      "torch.Size([1, 4]) torch.Size([1]) tensor([0])\n",
      "torch.Size([1, 4]) torch.Size([1]) tensor([0])\n",
      "torch.Size([1, 4]) torch.Size([1]) tensor([0])\n",
      "torch.Size([1, 4]) torch.Size([1]) tensor([0])\n",
      "torch.Size([1, 4]) torch.Size([1]) tensor([0])\n",
      "torch.Size([1, 4]) torch.Size([1]) tensor([0])\n",
      "torch.Size([1, 4]) torch.Size([1]) tensor([0])\n",
      "torch.Size([1, 4]) torch.Size([1]) tensor([0])\n",
      "torch.Size([1, 4]) torch.Size([1]) tensor([0])\n",
      "torch.Size([1, 4]) torch.Size([1]) tensor([0])\n",
      "torch.Size([1, 4]) torch.Size([1]) tensor([0])\n",
      "torch.Size([1, 4]) torch.Size([1]) tensor([0])\n",
      "torch.Size([1, 4]) torch.Size([1]) tensor([0])\n",
      "torch.Size([1, 4]) torch.Size([1]) tensor([0])\n",
      "torch.Size([1, 4]) torch.Size([1]) tensor([0])\n",
      "torch.Size([1, 4]) torch.Size([1]) tensor([0])\n",
      "torch.Size([1, 4]) torch.Size([1]) tensor([0])\n",
      "torch.Size([1, 4]) torch.Size([1]) tensor([0])\n",
      "torch.Size([1, 4]) torch.Size([1]) tensor([0])\n",
      "torch.Size([1, 4]) torch.Size([1]) tensor([0])\n",
      "torch.Size([1, 4]) torch.Size([1]) tensor([0])\n",
      "torch.Size([1, 4]) torch.Size([1]) tensor([0])\n",
      "torch.Size([1, 4]) torch.Size([1]) tensor([0])\n",
      "torch.Size([1, 4]) torch.Size([1]) tensor([0])\n",
      "torch.Size([1, 4]) torch.Size([1]) tensor([0])\n",
      "torch.Size([1, 4]) torch.Size([1]) tensor([0])\n",
      "torch.Size([1, 4]) torch.Size([1]) tensor([0])\n",
      "torch.Size([1, 4]) torch.Size([1]) tensor([0])\n",
      "torch.Size([1, 4]) torch.Size([1]) tensor([0])\n",
      "torch.Size([1, 4]) torch.Size([1]) tensor([0])\n",
      "torch.Size([1, 4]) torch.Size([1]) tensor([0])\n",
      "torch.Size([1, 4]) torch.Size([1]) tensor([0])\n",
      "torch.Size([1, 4]) torch.Size([1]) tensor([0])\n",
      "torch.Size([1, 4]) torch.Size([1]) tensor([0])\n",
      "torch.Size([1, 4]) torch.Size([1]) tensor([0])\n",
      "torch.Size([1, 4]) torch.Size([1]) tensor([0])\n",
      "torch.Size([1, 4]) torch.Size([1]) tensor([0])\n",
      "torch.Size([1, 4]) torch.Size([1]) tensor([0])\n",
      "torch.Size([1, 4]) torch.Size([1]) tensor([0])\n",
      "torch.Size([1, 4]) torch.Size([1]) tensor([0])\n",
      "torch.Size([1, 4]) torch.Size([1]) tensor([1])\n",
      "torch.Size([1, 4]) torch.Size([1]) tensor([1])\n",
      "torch.Size([1, 4]) torch.Size([1]) tensor([1])\n",
      "torch.Size([1, 4]) torch.Size([1]) tensor([1])\n",
      "torch.Size([1, 4]) torch.Size([1]) tensor([1])\n",
      "torch.Size([1, 4]) torch.Size([1]) tensor([1])\n",
      "torch.Size([1, 4]) torch.Size([1]) tensor([1])\n",
      "torch.Size([1, 4]) torch.Size([1]) tensor([1])\n",
      "torch.Size([1, 4]) torch.Size([1]) tensor([1])\n",
      "torch.Size([1, 4]) torch.Size([1]) tensor([1])\n",
      "torch.Size([1, 4]) torch.Size([1]) tensor([1])\n",
      "torch.Size([1, 4]) torch.Size([1]) tensor([1])\n",
      "torch.Size([1, 4]) torch.Size([1]) tensor([1])\n",
      "torch.Size([1, 4]) torch.Size([1]) tensor([1])\n",
      "torch.Size([1, 4]) torch.Size([1]) tensor([1])\n",
      "torch.Size([1, 4]) torch.Size([1]) tensor([1])\n",
      "torch.Size([1, 4]) torch.Size([1]) tensor([1])\n",
      "torch.Size([1, 4]) torch.Size([1]) tensor([1])\n",
      "torch.Size([1, 4]) torch.Size([1]) tensor([1])\n",
      "torch.Size([1, 4]) torch.Size([1]) tensor([1])\n",
      "torch.Size([1, 4]) torch.Size([1]) tensor([1])\n",
      "torch.Size([1, 4]) torch.Size([1]) tensor([1])\n",
      "torch.Size([1, 4]) torch.Size([1]) tensor([1])\n",
      "torch.Size([1, 4]) torch.Size([1]) tensor([1])\n",
      "torch.Size([1, 4]) torch.Size([1]) tensor([1])\n",
      "torch.Size([1, 4]) torch.Size([1]) tensor([1])\n",
      "torch.Size([1, 4]) torch.Size([1]) tensor([1])\n",
      "torch.Size([1, 4]) torch.Size([1]) tensor([1])\n",
      "torch.Size([1, 4]) torch.Size([1]) tensor([1])\n",
      "torch.Size([1, 4]) torch.Size([1]) tensor([1])\n",
      "torch.Size([1, 4]) torch.Size([1]) tensor([1])\n",
      "torch.Size([1, 4]) torch.Size([1]) tensor([1])\n",
      "torch.Size([1, 4]) torch.Size([1]) tensor([1])\n",
      "torch.Size([1, 4]) torch.Size([1]) tensor([1])\n",
      "torch.Size([1, 4]) torch.Size([1]) tensor([1])\n",
      "torch.Size([1, 4]) torch.Size([1]) tensor([1])\n",
      "torch.Size([1, 4]) torch.Size([1]) tensor([1])\n",
      "torch.Size([1, 4]) torch.Size([1]) tensor([1])\n",
      "torch.Size([1, 4]) torch.Size([1]) tensor([1])\n",
      "torch.Size([1, 4]) torch.Size([1]) tensor([1])\n",
      "torch.Size([1, 4]) torch.Size([1]) tensor([1])\n",
      "torch.Size([1, 4]) torch.Size([1]) tensor([1])\n",
      "torch.Size([1, 4]) torch.Size([1]) tensor([1])\n",
      "torch.Size([1, 4]) torch.Size([1]) tensor([1])\n",
      "torch.Size([1, 4]) torch.Size([1]) tensor([1])\n",
      "torch.Size([1, 4]) torch.Size([1]) tensor([1])\n",
      "torch.Size([1, 4]) torch.Size([1]) tensor([1])\n",
      "torch.Size([1, 4]) torch.Size([1]) tensor([1])\n",
      "torch.Size([1, 4]) torch.Size([1]) tensor([1])\n",
      "torch.Size([1, 4]) torch.Size([1]) tensor([1])\n",
      "torch.Size([1, 4]) torch.Size([1]) tensor([2])\n",
      "torch.Size([1, 4]) torch.Size([1]) tensor([2])\n",
      "torch.Size([1, 4]) torch.Size([1]) tensor([2])\n",
      "torch.Size([1, 4]) torch.Size([1]) tensor([2])\n",
      "torch.Size([1, 4]) torch.Size([1]) tensor([2])\n",
      "torch.Size([1, 4]) torch.Size([1]) tensor([2])\n",
      "torch.Size([1, 4]) torch.Size([1]) tensor([2])\n",
      "torch.Size([1, 4]) torch.Size([1]) tensor([2])\n",
      "torch.Size([1, 4]) torch.Size([1]) tensor([2])\n",
      "torch.Size([1, 4]) torch.Size([1]) tensor([2])\n",
      "torch.Size([1, 4]) torch.Size([1]) tensor([2])\n",
      "torch.Size([1, 4]) torch.Size([1]) tensor([2])\n",
      "torch.Size([1, 4]) torch.Size([1]) tensor([2])\n",
      "torch.Size([1, 4]) torch.Size([1]) tensor([2])\n",
      "torch.Size([1, 4]) torch.Size([1]) tensor([2])\n",
      "torch.Size([1, 4]) torch.Size([1]) tensor([2])\n",
      "torch.Size([1, 4]) torch.Size([1]) tensor([2])\n",
      "torch.Size([1, 4]) torch.Size([1]) tensor([2])\n",
      "torch.Size([1, 4]) torch.Size([1]) tensor([2])\n",
      "torch.Size([1, 4]) torch.Size([1]) tensor([2])\n",
      "torch.Size([1, 4]) torch.Size([1]) tensor([2])\n",
      "torch.Size([1, 4]) torch.Size([1]) tensor([2])\n",
      "torch.Size([1, 4]) torch.Size([1]) tensor([2])\n",
      "torch.Size([1, 4]) torch.Size([1]) tensor([2])\n",
      "torch.Size([1, 4]) torch.Size([1]) tensor([2])\n",
      "torch.Size([1, 4]) torch.Size([1]) tensor([2])\n",
      "torch.Size([1, 4]) torch.Size([1]) tensor([2])\n",
      "torch.Size([1, 4]) torch.Size([1]) tensor([2])\n",
      "torch.Size([1, 4]) torch.Size([1]) tensor([2])\n",
      "torch.Size([1, 4]) torch.Size([1]) tensor([2])\n",
      "torch.Size([1, 4]) torch.Size([1]) tensor([2])\n",
      "torch.Size([1, 4]) torch.Size([1]) tensor([2])\n",
      "torch.Size([1, 4]) torch.Size([1]) tensor([2])\n",
      "torch.Size([1, 4]) torch.Size([1]) tensor([2])\n",
      "torch.Size([1, 4]) torch.Size([1]) tensor([2])\n",
      "torch.Size([1, 4]) torch.Size([1]) tensor([2])\n",
      "torch.Size([1, 4]) torch.Size([1]) tensor([2])\n",
      "torch.Size([1, 4]) torch.Size([1]) tensor([2])\n",
      "torch.Size([1, 4]) torch.Size([1]) tensor([2])\n",
      "torch.Size([1, 4]) torch.Size([1]) tensor([2])\n",
      "torch.Size([1, 4]) torch.Size([1]) tensor([2])\n",
      "torch.Size([1, 4]) torch.Size([1]) tensor([2])\n",
      "torch.Size([1, 4]) torch.Size([1]) tensor([2])\n",
      "torch.Size([1, 4]) torch.Size([1]) tensor([2])\n",
      "torch.Size([1, 4]) torch.Size([1]) tensor([2])\n",
      "torch.Size([1, 4]) torch.Size([1]) tensor([2])\n",
      "torch.Size([1, 4]) torch.Size([1]) tensor([2])\n",
      "torch.Size([1, 4]) torch.Size([1]) tensor([2])\n",
      "torch.Size([1, 4]) torch.Size([1]) tensor([2])\n",
      "torch.Size([1, 4]) torch.Size([1]) tensor([2])\n",
      "[1] EPOCHS===================Batch 150===\n",
      "torch.Size([1, 4]) torch.Size([1]) tensor([0])\n",
      "torch.Size([1, 4]) torch.Size([1]) tensor([0])\n",
      "torch.Size([1, 4]) torch.Size([1]) tensor([0])\n",
      "torch.Size([1, 4]) torch.Size([1]) tensor([0])\n",
      "torch.Size([1, 4]) torch.Size([1]) tensor([0])\n",
      "torch.Size([1, 4]) torch.Size([1]) tensor([0])\n",
      "torch.Size([1, 4]) torch.Size([1]) tensor([0])\n",
      "torch.Size([1, 4]) torch.Size([1]) tensor([0])\n",
      "torch.Size([1, 4]) torch.Size([1]) tensor([0])\n",
      "torch.Size([1, 4]) torch.Size([1]) tensor([0])\n",
      "torch.Size([1, 4]) torch.Size([1]) tensor([0])\n",
      "torch.Size([1, 4]) torch.Size([1]) tensor([0])\n",
      "torch.Size([1, 4]) torch.Size([1]) tensor([0])\n",
      "torch.Size([1, 4]) torch.Size([1]) tensor([0])\n",
      "torch.Size([1, 4]) torch.Size([1]) tensor([0])\n",
      "torch.Size([1, 4]) torch.Size([1]) tensor([0])\n",
      "torch.Size([1, 4]) torch.Size([1]) tensor([0])\n",
      "torch.Size([1, 4]) torch.Size([1]) tensor([0])\n",
      "torch.Size([1, 4]) torch.Size([1]) tensor([0])\n",
      "torch.Size([1, 4]) torch.Size([1]) tensor([0])\n",
      "torch.Size([1, 4]) torch.Size([1]) tensor([0])\n",
      "torch.Size([1, 4]) torch.Size([1]) tensor([0])\n",
      "torch.Size([1, 4]) torch.Size([1]) tensor([0])\n",
      "torch.Size([1, 4]) torch.Size([1]) tensor([0])\n",
      "torch.Size([1, 4]) torch.Size([1]) tensor([0])\n",
      "torch.Size([1, 4]) torch.Size([1]) tensor([0])\n",
      "torch.Size([1, 4]) torch.Size([1]) tensor([0])\n",
      "torch.Size([1, 4]) torch.Size([1]) tensor([0])\n",
      "torch.Size([1, 4]) torch.Size([1]) tensor([0])\n",
      "torch.Size([1, 4]) torch.Size([1]) tensor([0])\n",
      "torch.Size([1, 4]) torch.Size([1]) tensor([0])\n",
      "torch.Size([1, 4]) torch.Size([1]) tensor([0])\n",
      "torch.Size([1, 4]) torch.Size([1]) tensor([0])\n",
      "torch.Size([1, 4]) torch.Size([1]) tensor([0])\n",
      "torch.Size([1, 4]) torch.Size([1]) tensor([0])\n",
      "torch.Size([1, 4]) torch.Size([1]) tensor([0])\n",
      "torch.Size([1, 4]) torch.Size([1]) tensor([0])\n",
      "torch.Size([1, 4]) torch.Size([1]) tensor([0])\n",
      "torch.Size([1, 4]) torch.Size([1]) tensor([0])\n",
      "torch.Size([1, 4]) torch.Size([1]) tensor([0])\n",
      "torch.Size([1, 4]) torch.Size([1]) tensor([0])\n",
      "torch.Size([1, 4]) torch.Size([1]) tensor([0])\n",
      "torch.Size([1, 4]) torch.Size([1]) tensor([0])\n",
      "torch.Size([1, 4]) torch.Size([1]) tensor([0])\n",
      "torch.Size([1, 4]) torch.Size([1]) tensor([0])\n",
      "torch.Size([1, 4]) torch.Size([1]) tensor([0])\n",
      "torch.Size([1, 4]) torch.Size([1]) tensor([0])\n",
      "torch.Size([1, 4]) torch.Size([1]) tensor([0])\n",
      "torch.Size([1, 4]) torch.Size([1]) tensor([0])\n",
      "torch.Size([1, 4]) torch.Size([1]) tensor([0])\n",
      "torch.Size([1, 4]) torch.Size([1]) tensor([1])\n",
      "torch.Size([1, 4]) torch.Size([1]) tensor([1])\n",
      "torch.Size([1, 4]) torch.Size([1]) tensor([1])\n",
      "torch.Size([1, 4]) torch.Size([1]) tensor([1])\n",
      "torch.Size([1, 4]) torch.Size([1]) tensor([1])\n",
      "torch.Size([1, 4]) torch.Size([1]) tensor([1])\n",
      "torch.Size([1, 4]) torch.Size([1]) tensor([1])\n",
      "torch.Size([1, 4]) torch.Size([1]) tensor([1])\n",
      "torch.Size([1, 4]) torch.Size([1]) tensor([1])\n",
      "torch.Size([1, 4]) torch.Size([1]) tensor([1])\n",
      "torch.Size([1, 4]) torch.Size([1]) tensor([1])\n",
      "torch.Size([1, 4]) torch.Size([1]) tensor([1])\n",
      "torch.Size([1, 4]) torch.Size([1]) tensor([1])\n",
      "torch.Size([1, 4]) torch.Size([1]) tensor([1])\n",
      "torch.Size([1, 4]) torch.Size([1]) tensor([1])\n",
      "torch.Size([1, 4]) torch.Size([1]) tensor([1])\n",
      "torch.Size([1, 4]) torch.Size([1]) tensor([1])\n",
      "torch.Size([1, 4]) torch.Size([1]) tensor([1])\n",
      "torch.Size([1, 4]) torch.Size([1]) tensor([1])\n",
      "torch.Size([1, 4]) torch.Size([1]) tensor([1])\n",
      "torch.Size([1, 4]) torch.Size([1]) tensor([1])\n",
      "torch.Size([1, 4]) torch.Size([1]) tensor([1])\n",
      "torch.Size([1, 4]) torch.Size([1]) tensor([1])\n",
      "torch.Size([1, 4]) torch.Size([1]) tensor([1])\n",
      "torch.Size([1, 4]) torch.Size([1]) tensor([1])\n",
      "torch.Size([1, 4]) torch.Size([1]) tensor([1])\n",
      "torch.Size([1, 4]) torch.Size([1]) tensor([1])\n",
      "torch.Size([1, 4]) torch.Size([1]) tensor([1])\n",
      "torch.Size([1, 4]) torch.Size([1]) tensor([1])\n",
      "torch.Size([1, 4]) torch.Size([1]) tensor([1])\n",
      "torch.Size([1, 4]) torch.Size([1]) tensor([1])\n",
      "torch.Size([1, 4]) torch.Size([1]) tensor([1])\n",
      "torch.Size([1, 4]) torch.Size([1]) tensor([1])\n",
      "torch.Size([1, 4]) torch.Size([1]) tensor([1])\n",
      "torch.Size([1, 4]) torch.Size([1]) tensor([1])\n",
      "torch.Size([1, 4]) torch.Size([1]) tensor([1])\n",
      "torch.Size([1, 4]) torch.Size([1]) tensor([1])\n",
      "torch.Size([1, 4]) torch.Size([1]) tensor([1])\n",
      "torch.Size([1, 4]) torch.Size([1]) tensor([1])\n",
      "torch.Size([1, 4]) torch.Size([1]) tensor([1])\n",
      "torch.Size([1, 4]) torch.Size([1]) tensor([1])\n",
      "torch.Size([1, 4]) torch.Size([1]) tensor([1])\n",
      "torch.Size([1, 4]) torch.Size([1]) tensor([1])\n",
      "torch.Size([1, 4]) torch.Size([1]) tensor([1])\n",
      "torch.Size([1, 4]) torch.Size([1]) tensor([1])\n",
      "torch.Size([1, 4]) torch.Size([1]) tensor([1])\n",
      "torch.Size([1, 4]) torch.Size([1]) tensor([1])\n",
      "torch.Size([1, 4]) torch.Size([1]) tensor([1])\n",
      "torch.Size([1, 4]) torch.Size([1]) tensor([1])\n",
      "torch.Size([1, 4]) torch.Size([1]) tensor([1])\n",
      "torch.Size([1, 4]) torch.Size([1]) tensor([2])\n",
      "torch.Size([1, 4]) torch.Size([1]) tensor([2])\n",
      "torch.Size([1, 4]) torch.Size([1]) tensor([2])\n",
      "torch.Size([1, 4]) torch.Size([1]) tensor([2])\n",
      "torch.Size([1, 4]) torch.Size([1]) tensor([2])\n",
      "torch.Size([1, 4]) torch.Size([1]) tensor([2])\n",
      "torch.Size([1, 4]) torch.Size([1]) tensor([2])\n",
      "torch.Size([1, 4]) torch.Size([1]) tensor([2])\n",
      "torch.Size([1, 4]) torch.Size([1]) tensor([2])\n",
      "torch.Size([1, 4]) torch.Size([1]) tensor([2])\n",
      "torch.Size([1, 4]) torch.Size([1]) tensor([2])\n",
      "torch.Size([1, 4]) torch.Size([1]) tensor([2])\n",
      "torch.Size([1, 4]) torch.Size([1]) tensor([2])\n",
      "torch.Size([1, 4]) torch.Size([1]) tensor([2])\n",
      "torch.Size([1, 4]) torch.Size([1]) tensor([2])\n",
      "torch.Size([1, 4]) torch.Size([1]) tensor([2])\n",
      "torch.Size([1, 4]) torch.Size([1]) tensor([2])\n",
      "torch.Size([1, 4]) torch.Size([1]) tensor([2])\n",
      "torch.Size([1, 4]) torch.Size([1]) tensor([2])\n",
      "torch.Size([1, 4]) torch.Size([1]) tensor([2])\n",
      "torch.Size([1, 4]) torch.Size([1]) tensor([2])\n",
      "torch.Size([1, 4]) torch.Size([1]) tensor([2])\n",
      "torch.Size([1, 4]) torch.Size([1]) tensor([2])\n",
      "torch.Size([1, 4]) torch.Size([1]) tensor([2])\n",
      "torch.Size([1, 4]) torch.Size([1]) tensor([2])\n",
      "torch.Size([1, 4]) torch.Size([1]) tensor([2])\n",
      "torch.Size([1, 4]) torch.Size([1]) tensor([2])\n",
      "torch.Size([1, 4]) torch.Size([1]) tensor([2])\n",
      "torch.Size([1, 4]) torch.Size([1]) tensor([2])\n",
      "torch.Size([1, 4]) torch.Size([1]) tensor([2])\n",
      "torch.Size([1, 4]) torch.Size([1]) tensor([2])\n",
      "torch.Size([1, 4]) torch.Size([1]) tensor([2])\n",
      "torch.Size([1, 4]) torch.Size([1]) tensor([2])\n",
      "torch.Size([1, 4]) torch.Size([1]) tensor([2])\n",
      "torch.Size([1, 4]) torch.Size([1]) tensor([2])\n",
      "torch.Size([1, 4]) torch.Size([1]) tensor([2])\n",
      "torch.Size([1, 4]) torch.Size([1]) tensor([2])\n",
      "torch.Size([1, 4]) torch.Size([1]) tensor([2])\n",
      "torch.Size([1, 4]) torch.Size([1]) tensor([2])\n",
      "torch.Size([1, 4]) torch.Size([1]) tensor([2])\n",
      "torch.Size([1, 4]) torch.Size([1]) tensor([2])\n",
      "torch.Size([1, 4]) torch.Size([1]) tensor([2])\n",
      "torch.Size([1, 4]) torch.Size([1]) tensor([2])\n",
      "torch.Size([1, 4]) torch.Size([1]) tensor([2])\n",
      "torch.Size([1, 4]) torch.Size([1]) tensor([2])\n",
      "torch.Size([1, 4]) torch.Size([1]) tensor([2])\n",
      "torch.Size([1, 4]) torch.Size([1]) tensor([2])\n",
      "torch.Size([1, 4]) torch.Size([1]) tensor([2])\n",
      "torch.Size([1, 4]) torch.Size([1]) tensor([2])\n",
      "torch.Size([1, 4]) torch.Size([1]) tensor([2])\n"
     ]
    }
   ],
   "source": [
    "### => [ 기본 사용 ] batch_size = 1, shuffle = False, drop_last = False, sampler = None\n",
    "loader = DataLoader(dataset)\n",
    "print_batch_data(loader=loader, epochs=2)"
   ],
   "metadata": {
    "collapsed": false,
    "ExecuteTime": {
     "end_time": "2024-03-25T05:49:14.084298Z",
     "start_time": "2024-03-25T05:49:14.025682Z"
    }
   },
   "id": "dccd9287f8b69f3f",
   "execution_count": 30
  },
  {
   "cell_type": "code",
   "outputs": [
    {
     "name": "stdout",
     "output_type": "stream",
     "text": [
      "[설정값] batchsize = 1, shuffle: False, drop_last = False, sampler = None\n",
      "[0] EPOCHS===================Batch 7===\n",
      "torch.Size([22, 4]) torch.Size([22]) tensor([0, 0, 0, 0, 0, 0, 0, 0, 0, 0, 0, 0, 0, 0, 0, 0, 0, 0, 0, 0, 0, 0])\n",
      "torch.Size([22, 4]) torch.Size([22]) tensor([0, 0, 0, 0, 0, 0, 0, 0, 0, 0, 0, 0, 0, 0, 0, 0, 0, 0, 0, 0, 0, 0])\n",
      "torch.Size([22, 4]) torch.Size([22]) tensor([0, 0, 0, 0, 0, 0, 1, 1, 1, 1, 1, 1, 1, 1, 1, 1, 1, 1, 1, 1, 1, 1])\n",
      "torch.Size([22, 4]) torch.Size([22]) tensor([1, 1, 1, 1, 1, 1, 1, 1, 1, 1, 1, 1, 1, 1, 1, 1, 1, 1, 1, 1, 1, 1])\n",
      "torch.Size([22, 4]) torch.Size([22]) tensor([1, 1, 1, 1, 1, 1, 1, 1, 1, 1, 1, 1, 2, 2, 2, 2, 2, 2, 2, 2, 2, 2])\n",
      "torch.Size([22, 4]) torch.Size([22]) tensor([2, 2, 2, 2, 2, 2, 2, 2, 2, 2, 2, 2, 2, 2, 2, 2, 2, 2, 2, 2, 2, 2])\n",
      "torch.Size([18, 4]) torch.Size([18]) tensor([2, 2, 2, 2, 2, 2, 2, 2, 2, 2, 2, 2, 2, 2, 2, 2, 2, 2])\n",
      "[1] EPOCHS===================Batch 7===\n",
      "torch.Size([22, 4]) torch.Size([22]) tensor([0, 0, 0, 0, 0, 0, 0, 0, 0, 0, 0, 0, 0, 0, 0, 0, 0, 0, 0, 0, 0, 0])\n",
      "torch.Size([22, 4]) torch.Size([22]) tensor([0, 0, 0, 0, 0, 0, 0, 0, 0, 0, 0, 0, 0, 0, 0, 0, 0, 0, 0, 0, 0, 0])\n",
      "torch.Size([22, 4]) torch.Size([22]) tensor([0, 0, 0, 0, 0, 0, 1, 1, 1, 1, 1, 1, 1, 1, 1, 1, 1, 1, 1, 1, 1, 1])\n",
      "torch.Size([22, 4]) torch.Size([22]) tensor([1, 1, 1, 1, 1, 1, 1, 1, 1, 1, 1, 1, 1, 1, 1, 1, 1, 1, 1, 1, 1, 1])\n",
      "torch.Size([22, 4]) torch.Size([22]) tensor([1, 1, 1, 1, 1, 1, 1, 1, 1, 1, 1, 1, 2, 2, 2, 2, 2, 2, 2, 2, 2, 2])\n",
      "torch.Size([22, 4]) torch.Size([22]) tensor([2, 2, 2, 2, 2, 2, 2, 2, 2, 2, 2, 2, 2, 2, 2, 2, 2, 2, 2, 2, 2, 2])\n",
      "torch.Size([18, 4]) torch.Size([18]) tensor([2, 2, 2, 2, 2, 2, 2, 2, 2, 2, 2, 2, 2, 2, 2, 2, 2, 2])\n"
     ]
    }
   ],
   "source": [
    "### => [ 설정 사용 ] batch_size = 22, shuffle = False, drop_last = False, sampler = None\n",
    "loader = DataLoader(dataset, batch_size=22)\n",
    "print_batch_data(loader=loader, epochs=2)"
   ],
   "metadata": {
    "collapsed": false,
    "ExecuteTime": {
     "end_time": "2024-03-25T05:50:38.846655Z",
     "start_time": "2024-03-25T05:50:38.825199Z"
    }
   },
   "id": "75ab4f19ef95dcae",
   "execution_count": 31
  },
  {
   "cell_type": "code",
   "outputs": [
    {
     "name": "stdout",
     "output_type": "stream",
     "text": [
      "[설정값] batchsize = 1, shuffle: False, drop_last = True, sampler = None\n",
      "[0] EPOCHS===================Batch 6===\n",
      "torch.Size([22, 4]) torch.Size([22]) tensor([0, 0, 0, 0, 0, 0, 0, 0, 0, 0, 0, 0, 0, 0, 0, 0, 0, 0, 0, 0, 0, 0])\n",
      "torch.Size([22, 4]) torch.Size([22]) tensor([0, 0, 0, 0, 0, 0, 0, 0, 0, 0, 0, 0, 0, 0, 0, 0, 0, 0, 0, 0, 0, 0])\n",
      "torch.Size([22, 4]) torch.Size([22]) tensor([0, 0, 0, 0, 0, 0, 1, 1, 1, 1, 1, 1, 1, 1, 1, 1, 1, 1, 1, 1, 1, 1])\n",
      "torch.Size([22, 4]) torch.Size([22]) tensor([1, 1, 1, 1, 1, 1, 1, 1, 1, 1, 1, 1, 1, 1, 1, 1, 1, 1, 1, 1, 1, 1])\n",
      "torch.Size([22, 4]) torch.Size([22]) tensor([1, 1, 1, 1, 1, 1, 1, 1, 1, 1, 1, 1, 2, 2, 2, 2, 2, 2, 2, 2, 2, 2])\n",
      "torch.Size([22, 4]) torch.Size([22]) tensor([2, 2, 2, 2, 2, 2, 2, 2, 2, 2, 2, 2, 2, 2, 2, 2, 2, 2, 2, 2, 2, 2])\n",
      "[1] EPOCHS===================Batch 6===\n",
      "torch.Size([22, 4]) torch.Size([22]) tensor([0, 0, 0, 0, 0, 0, 0, 0, 0, 0, 0, 0, 0, 0, 0, 0, 0, 0, 0, 0, 0, 0])\n",
      "torch.Size([22, 4]) torch.Size([22]) tensor([0, 0, 0, 0, 0, 0, 0, 0, 0, 0, 0, 0, 0, 0, 0, 0, 0, 0, 0, 0, 0, 0])\n",
      "torch.Size([22, 4]) torch.Size([22]) tensor([0, 0, 0, 0, 0, 0, 1, 1, 1, 1, 1, 1, 1, 1, 1, 1, 1, 1, 1, 1, 1, 1])\n",
      "torch.Size([22, 4]) torch.Size([22]) tensor([1, 1, 1, 1, 1, 1, 1, 1, 1, 1, 1, 1, 1, 1, 1, 1, 1, 1, 1, 1, 1, 1])\n",
      "torch.Size([22, 4]) torch.Size([22]) tensor([1, 1, 1, 1, 1, 1, 1, 1, 1, 1, 1, 1, 2, 2, 2, 2, 2, 2, 2, 2, 2, 2])\n",
      "torch.Size([22, 4]) torch.Size([22]) tensor([2, 2, 2, 2, 2, 2, 2, 2, 2, 2, 2, 2, 2, 2, 2, 2, 2, 2, 2, 2, 2, 2])\n"
     ]
    }
   ],
   "source": [
    "### => [ 설정 사용 ] batch_size = 22, shuffle = False, drop_last = False, sampler = None\n",
    "loader = DataLoader(dataset, batch_size=22, drop_last=True)\n",
    "print_batch_data(loader=loader, epochs=2, drop_last=True)"
   ],
   "metadata": {
    "collapsed": false,
    "ExecuteTime": {
     "end_time": "2024-03-25T05:51:49.236367Z",
     "start_time": "2024-03-25T05:51:49.215944Z"
    }
   },
   "id": "458ea88a83a8cb2f",
   "execution_count": 32
  },
  {
   "cell_type": "code",
   "outputs": [
    {
     "name": "stdout",
     "output_type": "stream",
     "text": [
      "[설정값] batchsize = 1, shuffle: True, drop_last = False, sampler = None\n",
      "[0] EPOCHS===================Batch 7===\n",
      "torch.Size([22, 4]) torch.Size([22]) tensor([0, 0, 2, 1, 2, 2, 2, 2, 1, 1, 1, 1, 1, 0, 2, 2, 1, 0, 0, 1, 0, 2])\n",
      "torch.Size([22, 4]) torch.Size([22]) tensor([0, 2, 2, 1, 1, 0, 2, 1, 1, 2, 1, 1, 1, 1, 0, 0, 1, 1, 2, 0, 0, 0])\n",
      "torch.Size([22, 4]) torch.Size([22]) tensor([1, 1, 1, 0, 1, 1, 0, 2, 2, 0, 2, 2, 0, 2, 1, 1, 1, 1, 2, 2, 2, 0])\n",
      "torch.Size([22, 4]) torch.Size([22]) tensor([2, 0, 0, 2, 0, 1, 1, 0, 0, 1, 0, 2, 0, 2, 2, 1, 0, 1, 2, 0, 0, 1])\n",
      "torch.Size([22, 4]) torch.Size([22]) tensor([1, 2, 1, 1, 2, 0, 1, 2, 0, 2, 2, 0, 0, 2, 0, 1, 0, 1, 0, 0, 0, 0])\n",
      "torch.Size([22, 4]) torch.Size([22]) tensor([0, 2, 1, 2, 2, 2, 2, 2, 0, 1, 1, 2, 2, 1, 1, 1, 2, 0, 0, 0, 2, 0])\n",
      "torch.Size([18, 4]) torch.Size([18]) tensor([2, 0, 0, 1, 2, 2, 2, 0, 1, 1, 1, 2, 2, 1, 0, 2, 0, 0])\n",
      "[1] EPOCHS===================Batch 7===\n",
      "torch.Size([22, 4]) torch.Size([22]) tensor([0, 0, 1, 1, 0, 0, 0, 2, 2, 0, 0, 2, 0, 0, 1, 0, 1, 0, 1, 0, 0, 2])\n",
      "torch.Size([22, 4]) torch.Size([22]) tensor([0, 0, 1, 2, 1, 0, 1, 2, 1, 2, 2, 0, 1, 0, 0, 2, 2, 1, 1, 0, 0, 2])\n",
      "torch.Size([22, 4]) torch.Size([22]) tensor([1, 1, 1, 2, 0, 2, 0, 1, 1, 1, 0, 2, 0, 1, 2, 2, 1, 1, 2, 2, 2, 2])\n",
      "torch.Size([22, 4]) torch.Size([22]) tensor([1, 2, 2, 1, 0, 2, 0, 1, 2, 2, 1, 2, 1, 1, 2, 0, 2, 0, 0, 0, 0, 2])\n",
      "torch.Size([22, 4]) torch.Size([22]) tensor([0, 2, 2, 0, 0, 1, 0, 2, 2, 1, 2, 1, 1, 1, 0, 0, 1, 2, 1, 2, 2, 2])\n",
      "torch.Size([22, 4]) torch.Size([22]) tensor([2, 2, 1, 2, 1, 1, 0, 0, 1, 0, 1, 2, 0, 2, 0, 1, 1, 1, 1, 0, 2, 1])\n",
      "torch.Size([18, 4]) torch.Size([18]) tensor([1, 0, 1, 1, 0, 2, 0, 2, 2, 0, 1, 1, 0, 2, 1, 2, 2, 0])\n"
     ]
    }
   ],
   "source": [
    "### => [ 설정 사용 ] batch_size = 22, shuffle = True, drop_last = False, sampler = None\n",
    "loader = DataLoader(dataset, batch_size=22, shuffle=True)\n",
    "print_batch_data(loader=loader, epochs=2, shuffle=True)"
   ],
   "metadata": {
    "collapsed": false,
    "ExecuteTime": {
     "end_time": "2024-03-25T05:53:00.640868Z",
     "start_time": "2024-03-25T05:53:00.618453Z"
    }
   },
   "id": "ce8bbb9036b8ba9b",
   "execution_count": 33
  },
  {
   "cell_type": "code",
   "outputs": [
    {
     "name": "stdout",
     "output_type": "stream",
     "text": [
      "torch.Size([22, 4]) torch.Size([22]) tensor([ 5, 10,  7])\n",
      "torch.Size([22, 4]) torch.Size([22]) tensor([10,  6,  6])\n",
      "torch.Size([22, 4]) torch.Size([22]) tensor([9, 4, 9])\n",
      "torch.Size([22, 4]) torch.Size([22]) tensor([6, 7, 9])\n",
      "torch.Size([22, 4]) torch.Size([22]) tensor([ 4, 10,  8])\n",
      "torch.Size([22, 4]) torch.Size([22]) tensor([9, 5, 8])\n",
      "torch.Size([18, 4]) torch.Size([18]) tensor([7, 8, 3])\n"
     ]
    }
   ],
   "source": [
    "for (feature, label) in loader:\n",
    "    print(feature.shape, label.shape, label.bincount())"
   ],
   "metadata": {
    "collapsed": false,
    "ExecuteTime": {
     "end_time": "2024-03-25T05:58:03.061010Z",
     "start_time": "2024-03-25T05:58:03.041459Z"
    }
   },
   "id": "4d5cf6e4fc4fee50",
   "execution_count": 34
  },
  {
   "cell_type": "code",
   "outputs": [],
   "source": [],
   "metadata": {
    "collapsed": false
   },
   "id": "52d686474f89a9e1"
  }
 ],
 "metadata": {
  "kernelspec": {
   "display_name": "Python 3",
   "language": "python",
   "name": "python3"
  },
  "language_info": {
   "codemirror_mode": {
    "name": "ipython",
    "version": 2
   },
   "file_extension": ".py",
   "mimetype": "text/x-python",
   "name": "python",
   "nbconvert_exporter": "python",
   "pygments_lexer": "ipython2",
   "version": "2.7.6"
  }
 },
 "nbformat": 4,
 "nbformat_minor": 5
}
