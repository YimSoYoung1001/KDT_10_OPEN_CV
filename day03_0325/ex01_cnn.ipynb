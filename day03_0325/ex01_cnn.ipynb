{
 "cells": [
  {
   "cell_type": "code",
   "outputs": [],
   "source": [
    "# 모듈 로딩\n",
    "import torch\n",
    "import torch.nn as nn\n",
    "import torch.nn.functional as F\n",
    "import cv2\n",
    "from torchinfo import summary"
   ],
   "metadata": {
    "collapsed": false,
    "ExecuteTime": {
     "end_time": "2024-03-25T15:07:50.548255Z",
     "start_time": "2024-03-25T15:07:48.866430Z"
    }
   },
   "id": "bb0b6d47cd6122b4",
   "execution_count": 2
  },
  {
   "cell_type": "code",
   "outputs": [],
   "source": [
    "# 이미지 데이터 준비\n",
    "filename = '../data/img/img_04_zizel.jpg'"
   ],
   "metadata": {
    "collapsed": false,
    "ExecuteTime": {
     "end_time": "2024-03-25T15:07:50.563304Z",
     "start_time": "2024-03-25T15:07:50.551401Z"
    }
   },
   "id": "8619d83156ae1681",
   "execution_count": 3
  },
  {
   "cell_type": "code",
   "outputs": [
    {
     "name": "stdout",
     "output_type": "stream",
     "text": [
      "(1120, 720, 3) 3 --- (50, 50, 3) 3\n",
      "(1120, 720) 2 --- (50, 50) 2\n"
     ]
    }
   ],
   "source": [
    "# color 이미지\n",
    "imgNP = cv2.imread(filename)/255\n",
    "imgNP2 = cv2.resize(imgNP, (50,50))\n",
    "print(imgNP.shape, imgNP.ndim, '---',imgNP2.shape, imgNP2.ndim)\n",
    "\n",
    "# gray 이미지\n",
    "grayNP = cv2.imread(filename, cv2.IMREAD_GRAYSCALE)/255\n",
    "grayNP2 = cv2.resize(grayNP, (50, 50))\n",
    "print(grayNP.shape, grayNP.ndim, '---', grayNP2.shape, grayNP2.ndim)"
   ],
   "metadata": {
    "collapsed": false,
    "ExecuteTime": {
     "end_time": "2024-03-25T15:07:50.594742Z",
     "start_time": "2024-03-25T15:07:50.565409Z"
    }
   },
   "id": "e7473a7584cb9d9a",
   "execution_count": 4
  },
  {
   "cell_type": "code",
   "outputs": [
    {
     "name": "stdout",
     "output_type": "stream",
     "text": [
      "torch.Size([50, 50, 3]) 3 --- torch.Size([50, 50]) 2\n"
     ]
    }
   ],
   "source": [
    "# numpy --> floattensor 변환\n",
    "colorT = torch.FloatTensor(imgNP2)\n",
    "grayT = torch.FloatTensor(grayNP2)\n",
    "print(colorT.shape, colorT.ndim, '---' ,grayT.shape, grayT.ndim)"
   ],
   "metadata": {
    "collapsed": false,
    "ExecuteTime": {
     "end_time": "2024-03-25T15:07:50.614217Z",
     "start_time": "2024-03-25T15:07:50.596736Z"
    }
   },
   "id": "9208cd4b0c9fa4ce",
   "execution_count": 5
  },
  {
   "cell_type": "code",
   "outputs": [
    {
     "name": "stdout",
     "output_type": "stream",
     "text": [
      "torch.Size([3, 50, 50]) 3 --- torch.Size([1, 50, 50]) 3\n"
     ]
    }
   ],
   "source": [
    "# pytorch 이미지 데이터 형식 (C, H, W) \n",
    "# 그래서 C가 앞으로 오도록 당겨주어야함\n",
    "colorT = colorT.permute(2, 0, 1)\n",
    "grayT.unsqueeze_(dim=0)  \n",
    "print(colorT.shape, colorT.ndim, '---' ,grayT.shape, grayT.ndim)"
   ],
   "metadata": {
    "collapsed": false,
    "ExecuteTime": {
     "end_time": "2024-03-25T15:07:50.629885Z",
     "start_time": "2024-03-25T15:07:50.617524Z"
    }
   },
   "id": "f0c2e7075e013899",
   "execution_count": 6
  },
  {
   "cell_type": "markdown",
   "source": [
    "####  ===> CNN layer 살펴보기"
   ],
   "metadata": {
    "collapsed": false
   },
   "id": "4c7884b276627e84"
  },
  {
   "cell_type": "code",
   "outputs": [
    {
     "name": "stdout",
     "output_type": "stream",
     "text": [
      "Conv2d(1, 5, kernel_size=(3, 3), stride=(1, 1), padding=same)\n",
      "Conv2d(5, 3, kernel_size=(3, 3), stride=(1, 1), padding=same)\n"
     ]
    }
   ],
   "source": [
    "### ===> 이미지 데이터로 Conv2D\n",
    "### [1] 흑백 이미지\n",
    "conLayer = nn.Conv2d(in_channels=1, out_channels = 5, kernel_size = 3, stride = 1, padding = 'same') # 입력 출력 shape 다름\n",
    "# conLayer = nn.Conv2d(in_channels=1, out_channels = 5, kernel_size = 5, stride = 1, padding = 0) # 입력 출력 shape 다름\n",
    "# out_channels => 필터개수이다. 필터 개수만큼 FeatureMap이 생성된다.\n",
    "\n",
    "conLayer2 = nn.Conv2d(in_channels=5, out_channels = 3, kernel_size = 3, stride = 1, padding = 'same') # 입력 출력 shape 동일\n",
    "# conLayer3 = nn.Conv2d(in_channels=3, out_channels =3, kernel_size = 5, stride = 1, padding = (2,1))\n",
    "print(conLayer, conLayer2, sep= '\\n')"
   ],
   "metadata": {
    "collapsed": false,
    "ExecuteTime": {
     "end_time": "2024-03-25T15:07:50.644946Z",
     "start_time": "2024-03-25T15:07:50.632071Z"
    }
   },
   "id": "3e65049832f5f297",
   "execution_count": 7
  },
  {
   "cell_type": "code",
   "outputs": [
    {
     "name": "stdout",
     "output_type": "stream",
     "text": [
      "torch.Size([1, 50, 50]) torch.Size([5, 50, 50]) torch.Size([3, 50, 50])\n"
     ]
    }
   ],
   "source": [
    "output = conLayer(grayT)\n",
    "output2 = conLayer2(output)\n",
    "print(grayT.shape, output.shape, output2.shape)"
   ],
   "metadata": {
    "collapsed": false,
    "ExecuteTime": {
     "end_time": "2024-03-25T15:07:50.660595Z",
     "start_time": "2024-03-25T15:07:50.647073Z"
    }
   },
   "id": "fd73ae1f2f043f16",
   "execution_count": 8
  },
  {
   "cell_type": "markdown",
   "source": [
    "결론은 알겠는데 왜 값 자체가 46, 46이 되는지를 모르겠다"
   ],
   "metadata": {
    "collapsed": false
   },
   "id": "b170e0043f7376a2"
  },
  {
   "cell_type": "code",
   "outputs": [],
   "source": [
    "### ===> polling layer : conv층에서 추출한 특징을 다운샘플링 진행\n",
    "### 결과 shape : H,W 줄어듬, C는 그대로\n",
    "pol1 = nn.MaxPool2d(kernel_size = 3)\n",
    "pol2 = nn.MaxPool2d(kernel_size = 3, stride = 2)"
   ],
   "metadata": {
    "collapsed": false,
    "ExecuteTime": {
     "end_time": "2024-03-25T15:07:50.676256Z",
     "start_time": "2024-03-25T15:07:50.661657Z"
    }
   },
   "id": "d03ce07e43554493",
   "execution_count": 9
  },
  {
   "cell_type": "code",
   "outputs": [
    {
     "name": "stdout",
     "output_type": "stream",
     "text": [
      "torch.Size([5, 50, 50]) torch.Size([3, 50, 50])\n"
     ]
    }
   ],
   "source": [
    "### convXD + AF => F.relu( )\n",
    "relu1 = F.relu(output)\n",
    "\n",
    "output_2 = conLayer2(relu1)\n",
    "relu2 = F.relu(output_2)\n",
    "\n",
    "print(relu1.shape, relu2.shape)"
   ],
   "metadata": {
    "collapsed": false,
    "ExecuteTime": {
     "end_time": "2024-03-25T15:07:50.691372Z",
     "start_time": "2024-03-25T15:07:50.677358Z"
    }
   },
   "id": "2141a885c9b7e7ac",
   "execution_count": 10
  },
  {
   "cell_type": "code",
   "outputs": [
    {
     "data": {
      "text/plain": "torch.Size([3, 16, 16])"
     },
     "execution_count": 11,
     "metadata": {},
     "output_type": "execute_result"
    }
   ],
   "source": [
    "# 2번째 Conv2D + AF 결과인 피처맵 전달\n",
    "fm1 = pol1(relu2)\n",
    "fm1.shape"
   ],
   "metadata": {
    "collapsed": false,
    "ExecuteTime": {
     "end_time": "2024-03-25T15:07:50.706931Z",
     "start_time": "2024-03-25T15:07:50.693458Z"
    }
   },
   "id": "7a8e709a18b1d4c6",
   "execution_count": 11
  },
  {
   "cell_type": "code",
   "outputs": [
    {
     "data": {
      "text/plain": "torch.Size([3, 24, 24])"
     },
     "execution_count": 12,
     "metadata": {},
     "output_type": "execute_result"
    }
   ],
   "source": [
    "fm2 = pol2(relu2)\n",
    "fm2.shape"
   ],
   "metadata": {
    "collapsed": false,
    "ExecuteTime": {
     "end_time": "2024-03-25T15:07:50.723051Z",
     "start_time": "2024-03-25T15:07:50.709244Z"
    }
   },
   "id": "365677318b2622ef",
   "execution_count": 12
  },
  {
   "cell_type": "markdown",
   "source": [
    "### 추출된 feature map 확인"
   ],
   "metadata": {
    "collapsed": false
   },
   "id": "e29e18663ddfc069"
  },
  {
   "cell_type": "code",
   "outputs": [
    {
     "name": "stdout",
     "output_type": "stream",
     "text": [
      "[input] torch.Size([1, 50, 50])\n",
      "[relu1] torch.Size([5, 50, 50])\n",
      "[relu2] torch.Size([3, 50, 50])\n",
      "[mp1] torch.Size([3, 16, 16])\n"
     ]
    }
   ],
   "source": [
    "## 구성 : Conv2D + Conv2D + Pooling\n",
    "print(f'[input] {grayT.shape}')\n",
    "\n",
    "output1 = conLayer(grayT)\n",
    "relu1 = F.relu(output1)\n",
    "print(f'[relu1] {relu1.shape}')\n",
    "\n",
    "output2 = conLayer2(relu1)\n",
    "relu2 = F.relu(output2)\n",
    "print(f'[relu2] {relu2.shape}')\n",
    "\n",
    "mp1 = pol1(relu2)\n",
    "print(f'[mp1] {mp1.shape}')"
   ],
   "metadata": {
    "collapsed": false,
    "ExecuteTime": {
     "end_time": "2024-03-25T15:07:50.738732Z",
     "start_time": "2024-03-25T15:07:50.725117Z"
    }
   },
   "id": "338c7a41716caa9f",
   "execution_count": 13
  },
  {
   "cell_type": "code",
   "outputs": [
    {
     "data": {
      "text/plain": "<Figure size 640x480 with 1 Axes>",
      "image/png": "[encoded data removed]"
     },
     "metadata": {},
     "output_type": "display_data"
    }
   ],
   "source": [
    "### ===> 시각화\n",
    "import matplotlib.pyplot as plt\n",
    "\n",
    "### 입력 그림 : 3D => 2D\n",
    "plt.imshow(grayT.squeeze(dim=0))\n",
    "plt.axis('off')\n",
    "plt.show()"
   ],
   "metadata": {
    "collapsed": false,
    "ExecuteTime": {
     "end_time": "2024-03-25T15:07:51.175734Z",
     "start_time": "2024-03-25T15:07:50.740832Z"
    }
   },
   "id": "739d6baf5b45b1f1",
   "execution_count": 14
  },
  {
   "cell_type": "code",
   "outputs": [],
   "source": [
    "### 첫번째 Conv2D Layer 추출 피처맵\n",
    "def print_featuremap(fm_tensor, cols, layer_name):\n",
    "    print(f\"[{layer_name} Layer]\")\n",
    "    for idx in range(fm_tensor.shape[0]):\n",
    "        # print(relu1[idx].shape)\n",
    "        plt.subplot(1,cols,idx+1)\n",
    "        plt.imshow(fm_tensor[idx].detach(), cmap = 'gray')\n",
    "        plt.title(label = f\"FeatureMap {idx+1}\")\n",
    "        plt.axis('off')\n",
    "    plt.tight_layout()\n",
    "    plt.show()"
   ],
   "metadata": {
    "collapsed": false,
    "ExecuteTime": {
     "end_time": "2024-03-25T15:07:51.190928Z",
     "start_time": "2024-03-25T15:07:51.179148Z"
    }
   },
   "id": "e269c4f800852481",
   "execution_count": 15
  },
  {
   "cell_type": "code",
   "outputs": [
    {
     "name": "stdout",
     "output_type": "stream",
     "text": [
      "[first Layer]\n"
     ]
    },
    {
     "data": {
      "text/plain": "<Figure size 640x480 with 5 Axes>",
      "image/png": "[encoded data removed]"
     },
     "metadata": {},
     "output_type": "display_data"
    },
    {
     "name": "stdout",
     "output_type": "stream",
     "text": [
      "[second Layer]\n"
     ]
    },
    {
     "data": {
      "text/plain": "<Figure size 640x480 with 3 Axes>",
      "image/png": "[encoded data removed]"
     },
     "metadata": {},
     "output_type": "display_data"
    },
    {
     "name": "stdout",
     "output_type": "stream",
     "text": [
      "[third Layer]\n"
     ]
    },
    {
     "data": {
      "text/plain": "<Figure size 640x480 with 3 Axes>",
      "image/png": "[encoded data removed]"
     },
     "metadata": {},
     "output_type": "display_data"
    }
   ],
   "source": [
    "print_featuremap(relu1, 5, 'first')\n",
    "print_featuremap(relu2, 3, 'second')\n",
    "print_featuremap(mp1, 3, 'third')"
   ],
   "metadata": {
    "collapsed": false,
    "ExecuteTime": {
     "end_time": "2024-03-25T15:07:51.795316Z",
     "start_time": "2024-03-25T15:07:51.193625Z"
    }
   },
   "id": "69b67a674d8f7178",
   "execution_count": 16
  },
  {
   "cell_type": "code",
   "outputs": [],
   "source": [],
   "metadata": {
    "collapsed": false,
    "ExecuteTime": {
     "end_time": "2024-03-25T15:07:51.810484Z",
     "start_time": "2024-03-25T15:07:51.796313Z"
    }
   },
   "id": "b63b49b0073a9ca1",
   "execution_count": 16
  }
 ],
 "metadata": {
  "kernelspec": {
   "display_name": "Python 3",
   "language": "python",
   "name": "python3"
  },
  "language_info": {
   "codemirror_mode": {
    "name": "ipython",
    "version": 2
   },
   "file_extension": ".py",
   "mimetype": "text/x-python",
   "name": "python",
   "nbconvert_exporter": "python",
   "pygments_lexer": "ipython2",
   "version": "2.7.6"
  }
 },
 "nbformat": 4,
 "nbformat_minor": 5
}
